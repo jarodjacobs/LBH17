{
 "cells": [
  {
   "cell_type": "markdown",
   "metadata": {},
   "source": [
    "Notebook searching for clauses with subject preticate"
   ]
  },
  {
   "cell_type": "code",
   "execution_count": 1,
   "metadata": {
    "collapsed": true
   },
   "outputs": [],
   "source": [
    "import sys, collections, os"
   ]
  },
  {
   "cell_type": "code",
   "execution_count": 2,
   "metadata": {
    "collapsed": false
   },
   "outputs": [
    {
     "name": "stdout",
     "output_type": "stream",
     "text": [
      "This is Text-Fabric 2.3.6\n",
      "Api reference : https://github.com/ETCBC/text-fabric/wiki/Api\n",
      "Tutorial      : https://github.com/ETCBC/text-fabric/blob/master/docs/tutorial.ipynb\n",
      "Data sources  : https://github.com/ETCBC/text-fabric-data\n",
      "Data docs     : https://etcbc.github.io/text-fabric-data\n",
      "Shebanq docs  : https://shebanq.ancient-data.org/text\n",
      "Slack team    : https://shebanq.slack.com/signup\n",
      "Questions? Ask shebanq@ancient-data.org for an invite to Slack\n",
      "72 features found and 0 ignored\n"
     ]
    }
   ],
   "source": [
    "from tf.fabric import Fabric\n",
    "XBIB = 'hebrew/extrabiblical'\n",
    "TF = Fabric(locations='~/github/text-fabric-data', modules=[XBIB])"
   ]
  },
  {
   "cell_type": "markdown",
   "metadata": {},
   "source": [
    "Activate relevant linguistic features"
   ]
  },
  {
   "cell_type": "code",
   "execution_count": 3,
   "metadata": {
    "collapsed": false
   },
   "outputs": [
    {
     "name": "stdout",
     "output_type": "stream",
     "text": [
      "  0.00s loading features ...\n",
      "   |     0.01s B otype                from /Users/jAir/github/text-fabric-data/hebrew/extrabiblical\n",
      "   |     0.01s B lex                  from /Users/jAir/github/text-fabric-data/hebrew/extrabiblical\n",
      "   |     0.01s B language             from /Users/jAir/github/text-fabric-data/hebrew/extrabiblical\n",
      "   |     0.01s B typ                  from /Users/jAir/github/text-fabric-data/hebrew/extrabiblical\n",
      "   |     0.00s B code                 from /Users/jAir/github/text-fabric-data/hebrew/extrabiblical\n",
      "   |     0.00s B function             from /Users/jAir/github/text-fabric-data/hebrew/extrabiblical\n",
      "   |     0.02s B rela                 from /Users/jAir/github/text-fabric-data/hebrew/extrabiblical\n",
      "   |     0.01s B det                  from /Users/jAir/github/text-fabric-data/hebrew/extrabiblical\n",
      "   |     0.01s B vt                   from /Users/jAir/github/text-fabric-data/hebrew/extrabiblical\n",
      "   |     0.01s B vs                   from /Users/jAir/github/text-fabric-data/hebrew/extrabiblical\n",
      "   |     0.00s B txt                  from /Users/jAir/github/text-fabric-data/hebrew/extrabiblical\n",
      "   |     0.01s B sp                   from /Users/jAir/github/text-fabric-data/hebrew/extrabiblical\n",
      "   |     0.01s B mother               from /Users/jAir/github/text-fabric-data/hebrew/extrabiblical\n",
      "   |     0.01s B uvf                  from /Users/jAir/github/text-fabric-data/hebrew/extrabiblical\n",
      "   |     0.00s Feature overview: 65 for nodes; 4 for edges; 3 configs; 7 computed\n",
      "  0.46s All features loaded/computed - for details use loadLog()\n"
     ]
    }
   ],
   "source": [
    "api = TF.load('''\n",
    "    otype lex language\n",
    "    typ code function rela det \n",
    "    vt vs txt sp mother uvf\n",
    "''')"
   ]
  },
  {
   "cell_type": "code",
   "execution_count": 4,
   "metadata": {
    "collapsed": false
   },
   "outputs": [
    {
     "name": "stdout",
     "output_type": "stream",
     "text": [
      "   |     0.01s B otype                from /Users/jAir/github/text-fabric-data/hebrew/extrabiblical\n",
      "   |     0.03s B oslots               from /Users/jAir/github/text-fabric-data/hebrew/extrabiblical\n",
      "   |     0.00s M otext                from /Users/jAir/github/text-fabric-data/hebrew/extrabiblical\n",
      "   |     0.00s B book                 from /Users/jAir/github/text-fabric-data/hebrew/extrabiblical\n",
      "   |     0.00s B chapter              from /Users/jAir/github/text-fabric-data/hebrew/extrabiblical\n",
      "   |     0.00s B verse                from /Users/jAir/github/text-fabric-data/hebrew/extrabiblical\n",
      "   |     0.01s B g_cons               from /Users/jAir/github/text-fabric-data/hebrew/extrabiblical\n",
      "   |     0.01s B g_lex_utf8           from /Users/jAir/github/text-fabric-data/hebrew/extrabiblical\n",
      "   |     0.01s B g_suffix             from /Users/jAir/github/text-fabric-data/hebrew/extrabiblical\n",
      "   |     0.00s B g_suffix_utf8        from /Users/jAir/github/text-fabric-data/hebrew/extrabiblical\n",
      "   |     0.01s B g_word               from /Users/jAir/github/text-fabric-data/hebrew/extrabiblical\n",
      "   |     0.01s B g_word_utf8          from /Users/jAir/github/text-fabric-data/hebrew/extrabiblical\n",
      "   |     0.01s B lex_utf8             from /Users/jAir/github/text-fabric-data/hebrew/extrabiblical\n",
      "   |     0.00s B __levels__           from otype, oslots\n",
      "   |     0.01s B __order__            from otype, oslots, __levels__\n",
      "   |     0.01s B __rank__             from otype, __order__\n",
      "   |     0.06s B __levUp__            from otype, oslots, __rank__\n",
      "   |     0.08s B __levDown__          from otype, __levUp__, __rank__\n",
      "   |     0.02s B __boundary__         from otype, oslots, __rank__\n",
      "   |     0.00s B __sections__         from otype, oslots, otext, __levUp__, __levels__, book, chapter, verse\n",
      "   |     0.01s B lex                  from /Users/jAir/github/text-fabric-data/hebrew/extrabiblical\n",
      "   |     0.01s B language             from /Users/jAir/github/text-fabric-data/hebrew/extrabiblical\n",
      "   |     0.01s B typ                  from /Users/jAir/github/text-fabric-data/hebrew/extrabiblical\n",
      "   |     0.00s B code                 from /Users/jAir/github/text-fabric-data/hebrew/extrabiblical\n",
      "   |     0.00s B function             from /Users/jAir/github/text-fabric-data/hebrew/extrabiblical\n",
      "   |     0.02s B rela                 from /Users/jAir/github/text-fabric-data/hebrew/extrabiblical\n",
      "   |     0.01s B det                  from /Users/jAir/github/text-fabric-data/hebrew/extrabiblical\n",
      "   |     0.01s B vt                   from /Users/jAir/github/text-fabric-data/hebrew/extrabiblical\n",
      "   |     0.01s B vs                   from /Users/jAir/github/text-fabric-data/hebrew/extrabiblical\n",
      "   |     0.00s B txt                  from /Users/jAir/github/text-fabric-data/hebrew/extrabiblical\n",
      "   |     0.01s B sp                   from /Users/jAir/github/text-fabric-data/hebrew/extrabiblical\n",
      "   |     0.01s B mother               from /Users/jAir/github/text-fabric-data/hebrew/extrabiblical\n",
      "   |     0.01s B uvf                  from /Users/jAir/github/text-fabric-data/hebrew/extrabiblical\n",
      "   |     0.00s B book@en              from /Users/jAir/github/text-fabric-data/hebrew/extrabiblical\n",
      "   |     0.00s M dist                 from /Users/jAir/github/text-fabric-data/hebrew/extrabiblical\n",
      "   |     0.00s M dist_unit            from /Users/jAir/github/text-fabric-data/hebrew/extrabiblical\n",
      "   |     0.00s M distributional_parent from /Users/jAir/github/text-fabric-data/hebrew/extrabiblical\n",
      "   |     0.00s M domain               from /Users/jAir/github/text-fabric-data/hebrew/extrabiblical\n",
      "   |     0.00s M functional_parent    from /Users/jAir/github/text-fabric-data/hebrew/extrabiblical\n",
      "   |     0.00s M g_cons_utf8          from /Users/jAir/github/text-fabric-data/hebrew/extrabiblical\n",
      "   |     0.00s M g_lex                from /Users/jAir/github/text-fabric-data/hebrew/extrabiblical\n",
      "   |     0.00s M g_nme                from /Users/jAir/github/text-fabric-data/hebrew/extrabiblical\n",
      "   |     0.00s M g_nme_utf8           from /Users/jAir/github/text-fabric-data/hebrew/extrabiblical\n",
      "   |     0.00s M g_pfm                from /Users/jAir/github/text-fabric-data/hebrew/extrabiblical\n",
      "   |     0.00s M g_pfm_utf8           from /Users/jAir/github/text-fabric-data/hebrew/extrabiblical\n",
      "   |     0.00s M g_prs                from /Users/jAir/github/text-fabric-data/hebrew/extrabiblical\n",
      "   |     0.00s M g_prs_utf8           from /Users/jAir/github/text-fabric-data/hebrew/extrabiblical\n",
      "   |     0.00s M g_uvf                from /Users/jAir/github/text-fabric-data/hebrew/extrabiblical\n",
      "   |     0.00s M g_uvf_utf8           from /Users/jAir/github/text-fabric-data/hebrew/extrabiblical\n",
      "   |     0.00s M g_vbe                from /Users/jAir/github/text-fabric-data/hebrew/extrabiblical\n",
      "   |     0.00s M g_vbe_utf8           from /Users/jAir/github/text-fabric-data/hebrew/extrabiblical\n",
      "   |     0.00s M g_vbs                from /Users/jAir/github/text-fabric-data/hebrew/extrabiblical\n",
      "   |     0.00s M g_vbs_utf8           from /Users/jAir/github/text-fabric-data/hebrew/extrabiblical\n",
      "   |     0.00s M gn                   from /Users/jAir/github/text-fabric-data/hebrew/extrabiblical\n",
      "   |     0.00s M is_root              from /Users/jAir/github/text-fabric-data/hebrew/extrabiblical\n",
      "   |     0.00s M kind                 from /Users/jAir/github/text-fabric-data/hebrew/extrabiblical\n",
      "   |     0.00s M label                from /Users/jAir/github/text-fabric-data/hebrew/extrabiblical\n",
      "   |     0.00s M lexeme_count         from /Users/jAir/github/text-fabric-data/hebrew/extrabiblical\n",
      "   |     0.00s M ls                   from /Users/jAir/github/text-fabric-data/hebrew/extrabiblical\n",
      "   |     0.00s M mother_object_type   from /Users/jAir/github/text-fabric-data/hebrew/extrabiblical\n",
      "   |     0.00s M nme                  from /Users/jAir/github/text-fabric-data/hebrew/extrabiblical\n",
      "   |     0.00s M nu                   from /Users/jAir/github/text-fabric-data/hebrew/extrabiblical\n",
      "   |     0.00s M number               from /Users/jAir/github/text-fabric-data/hebrew/extrabiblical\n",
      "   |     0.00s M otext                from /Users/jAir/github/text-fabric-data/hebrew/extrabiblical\n",
      "   |     0.00s M pdp                  from /Users/jAir/github/text-fabric-data/hebrew/extrabiblical\n",
      "   |     0.00s M pfm                  from /Users/jAir/github/text-fabric-data/hebrew/extrabiblical\n",
      "   |     0.00s M prs                  from /Users/jAir/github/text-fabric-data/hebrew/extrabiblical\n",
      "   |     0.00s M prs_gn               from /Users/jAir/github/text-fabric-data/hebrew/extrabiblical\n",
      "   |     0.00s M prs_nu               from /Users/jAir/github/text-fabric-data/hebrew/extrabiblical\n",
      "   |     0.00s M prs_ps               from /Users/jAir/github/text-fabric-data/hebrew/extrabiblical\n",
      "   |     0.00s M ps                   from /Users/jAir/github/text-fabric-data/hebrew/extrabiblical\n",
      "   |     0.00s M qere                 from /Users/jAir/github/text-fabric-data/hebrew/extrabiblical\n",
      "   |     0.00s M qere_utf8            from /Users/jAir/github/text-fabric-data/hebrew/extrabiblical\n",
      "   |     0.00s M st                   from /Users/jAir/github/text-fabric-data/hebrew/extrabiblical\n",
      "   |     0.00s M suffix_gender        from /Users/jAir/github/text-fabric-data/hebrew/extrabiblical\n",
      "   |     0.00s M suffix_number        from /Users/jAir/github/text-fabric-data/hebrew/extrabiblical\n",
      "   |     0.00s M suffix_person        from /Users/jAir/github/text-fabric-data/hebrew/extrabiblical\n",
      "   |     0.00s M tab                  from /Users/jAir/github/text-fabric-data/hebrew/extrabiblical\n",
      "   |     0.00s M vbe                  from /Users/jAir/github/text-fabric-data/hebrew/extrabiblical\n",
      "   |     0.00s M vbs                  from /Users/jAir/github/text-fabric-data/hebrew/extrabiblical\n"
     ]
    }
   ],
   "source": [
    "api.loadLog()\n",
    "api.makeAvailableIn(globals())"
   ]
  },
  {
   "cell_type": "markdown",
   "metadata": {},
   "source": [
    "Find all places where the name 'JHHW' occurs."
   ]
  },
  {
   "cell_type": "code",
   "execution_count": 5,
   "metadata": {
    "collapsed": false
   },
   "outputs": [
    {
     "name": "stdout",
     "output_type": "stream",
     "text": [
      "('1QM', 1, 6)\n",
      "('1QM', 2, 2)\n",
      "('1QM', 2, 9)\n",
      "('1QM', 4, 2)\n",
      "('1QM', 4, 4)\n",
      "('1QM', 4, 5)\n",
      "('1QM', 4, 8)\n",
      "('1QM', 4, 8)\n",
      "('1QM', 4, 9)\n",
      "('1QM', 4, 9)\n",
      "('1QM', 4, 10)\n",
      "('1QM', 4, 10)\n",
      "('1QM', 4, 11)\n",
      "('1QM', 4, 11)\n",
      "('1QM', 4, 12)\n",
      "('1QM', 4, 12)\n",
      "('1QM', 4, 27)\n",
      "('1QM', 7, 2)\n",
      "('1QM', 7, 5)\n",
      "('1QM', 7, 7)\n",
      "('1QM', 7, 16)\n",
      "('1QM', 7, 18)\n",
      "('1QM', 8, 2)\n",
      "('1QM', 8, 2)\n",
      "('1QM', 8, 2)\n",
      "('1QM', 8, 2)\n",
      "('1QM', 9, 1)\n",
      "('1QM', 9, 4)\n",
      "('1QM', 10, 5)\n",
      "('1QM', 10, 6)\n",
      "('1QM', 10, 16)\n",
      "('1QM', 11, 3)\n",
      "('1QM', 11, 3)\n",
      "('1QM', 12, 5)\n",
      "('1QM', 12, 31)\n",
      "('1QS', 1, 3)\n",
      "('1QS', 1, 7)\n",
      "('1QS', 2, 2)\n",
      "('1QS', 2, 2)\n",
      "('1QS', 2, 4)\n",
      "('1QS', 2, 5)\n",
      "('1QS', 2, 8)\n",
      "('1QS', 2, 10)\n",
      "('1QS', 2, 18)\n",
      "('1QS', 3, 1)\n",
      "('1QS', 4, 15)\n",
      "('1QS', 4, 15)\n",
      "('1QS', 4, 16)\n",
      "('1QS', 4, 18)\n",
      "('1QS', 4, 18)\n",
      "('1QS', 4, 18)\n",
      "('1QS', 4, 20)\n",
      "('1QS', 4, 21)\n",
      "('1QS', 4, 33)\n",
      "('1QS', 4, 36)\n",
      "('1QS', 4, 41)\n",
      "('1QS', 4, 49)\n",
      "('1QS', 4, 49)\n",
      "('1QS', 4, 52)\n",
      "('1QS', 5, 2)\n",
      "('1QS', 5, 2)\n",
      "('1QS', 5, 2)\n",
      "('1QS', 5, 2)\n",
      "('1QS', 5, 6)\n",
      "('1QS', 5, 6)\n",
      "('1QS', 5, 19)\n",
      "('1QS', 5, 29)\n",
      "('1QS', 6, 6)\n",
      "('1QS', 6, 28)\n",
      "('1QS', 6, 28)\n",
      "('1QS', 6, 28)\n",
      "('1QS', 6, 31)\n",
      "('1QS', 7, 56)\n",
      "('Kuntillet_Ajrud', 18, 1)\n",
      "('Arad', 40, 1)\n",
      "('Arad', 40, 1)\n",
      "('Arad', 40, 1)\n",
      "('Lachish', 3, 1)\n",
      "('Lachish', 3, 1)\n",
      "('Lachish', 3, 1)\n",
      "('Lachish', 3, 1)\n",
      "('Lachish', 4, 1)\n",
      "('Lachish', 4, 1)\n",
      "('Lachish', 4, 1)\n",
      "('Lachish', 5, 1)\n",
      "('Lachish', 5, 1)\n",
      "('Lachish', 6, 1)\n",
      "('Lachish', 6, 1)\n",
      "('Lachish', 6, 1)\n",
      "('Lachish', 6, 1)\n",
      "('Lachish', 6, 1)\n",
      "('Mesha_Stela', 1, 5)\n",
      "('Mesha_Stela', 1, 6)\n",
      "('Mesha_Stela', 1, 8)\n",
      "('Mesha_Stela', 1, 10)\n",
      "('Mesha_Stela', 1, 10)\n",
      "('Mesha_Stela', 1, 11)\n",
      "('Mesha_Stela', 1, 13)\n",
      "('Mesha_Stela', 1, 14)\n",
      "('Mesha_Stela', 1, 15)\n",
      "('Mesha_Stela', 1, 15)\n",
      "('Mesha_Stela', 1, 16)\n",
      "('Mesha_Stela', 1, 21)\n",
      "('Mesha_Stela', 1, 22)\n",
      "('Mesha_Stela', 1, 36)\n",
      "('Mesha_Stela', 1, 36)\n",
      "('Mesad_Hashavyahu', 1, 1)\n",
      "('Mesad_Hashavyahu', 1, 1)\n",
      "('Mesad_Hashavyahu', 1, 1)\n",
      "('Mesad_Hashavyahu', 1, 1)\n",
      "('Mesad_Hashavyahu', 1, 1)\n",
      "('Mesad_Hashavyahu', 1, 1)\n",
      "('Mesad_Hashavyahu', 1, 1)\n",
      "('Mesad_Hashavyahu', 1, 1)\n"
     ]
    }
   ],
   "source": [
    "for word11 in F.otype.s('word'):\n",
    "    if F.lex.v(word11) == '>T':\n",
    "        print(T.sectionFromNode(word11))"
   ]
  },
  {
   "cell_type": "code",
   "execution_count": 6,
   "metadata": {
    "collapsed": false
   },
   "outputs": [],
   "source": [
    "clause_list = []\n",
    "clause_dict = {}\n",
    "\n",
    "for cl in F.otype.s('clause'):\n",
    "    phrases = L.d(cl, 'phrase')\n",
    "    subj = False\n",
    "    pred = False\n",
    "    phr_counter = 0\n",
    "    for phr in phrases:\n",
    "        phr_counter += 1\n",
    "        if F.function.v(phr) == 'Subj':\n",
    "            subj = True\n",
    "            subj_place = phr_counter\n",
    "        if F.function.v(phr) in {'PreC', 'Pred', 'PtcO', 'PreO'}:\n",
    "            pred = True\n",
    "            pred_type = F.function.v(phr)\n",
    "            pred_phr = phr\n",
    "            pred_place = phr_counter\n",
    "    hjh = False\n",
    "    all_words = L.d(cl, 'word')\n",
    "    for w in all_words:\n",
    "        if F.lex.v(w) == 'HJH[':\n",
    "            hjh = True\n",
    "    if subj == True and pred == True and hjh == False:\n",
    "        info_list = [str(cl)]\n",
    "        where = T.sectionFromNode(cl)\n",
    "        for elem in where:\n",
    "            info_list.append(str(elem))\n",
    "        words = L.d(cl, 'word')\n",
    "        lang = F.language.v(words[0])\n",
    "        info_list.append(lang)\n",
    "        info_list.append(pred_type)\n",
    "        pred_words = L.d(pred_phr, 'word')\n",
    "        verbal = False\n",
    "        for pr_word in pred_words:            \n",
    "            if F.sp.v(pr_word) == 'verb':\n",
    "                verbal = True\n",
    "                tense = F.vt.v(pr_word)\n",
    "                verb_lex = F.lex.v(pr_word)\n",
    "        if verbal == True:\n",
    "            info_list.append(tense)\n",
    "            info_list.append(verb_lex)\n",
    "        else:\n",
    "            info_list.append('_')\n",
    "            info_list.append('_')\n",
    "        if pred_place < subj_place:\n",
    "            order = 'P_S'\n",
    "            info_list.append(order)\n",
    "        else:\n",
    "            info_list.append('S_P')\n",
    "        clause_list.append(cl)\n",
    "        clause_dict[cl] = info_list            "
   ]
  },
  {
   "cell_type": "code",
   "execution_count": 8,
   "metadata": {
    "collapsed": false
   },
   "outputs": [],
   "source": [
    "csvh = open('s_p_order_jarod_extrab.csv', \"w\")\n",
    "header = ['id', 'book', 'chapter', 'verse', 'language', 'pred_type', 'tense', 'verb_lex', 'order']\n",
    "csvh.write('{}\\n'.format(','.join(header)))\n",
    "for cl in clause_list:\n",
    "    line = clause_dict[cl]\n",
    "    csvh.write('{}\\n'.format(','.join(line)))\n",
    "    \n",
    "csvh.close()"
   ]
  }
 ],
 "metadata": {
  "anaconda-cloud": {},
  "kernelspec": {
   "display_name": "Python 3",
   "language": "python",
   "name": "python3"
  },
  "language_info": {
   "codemirror_mode": {
    "name": "ipython",
    "version": 3
   },
   "file_extension": ".py",
   "mimetype": "text/x-python",
   "name": "python",
   "nbconvert_exporter": "python",
   "pygments_lexer": "ipython3",
   "version": "3.6.0"
  }
 },
 "nbformat": 4,
 "nbformat_minor": 1
}
