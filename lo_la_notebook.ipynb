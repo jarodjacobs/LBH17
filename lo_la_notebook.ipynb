{
 "cells": [
  {
   "cell_type": "code",
   "execution_count": 1,
   "metadata": {
    "collapsed": true
   },
   "outputs": [],
   "source": [
    "import collections"
   ]
  },
  {
   "cell_type": "code",
   "execution_count": 2,
   "metadata": {
    "collapsed": false,
    "scrolled": true
   },
   "outputs": [
    {
     "name": "stdout",
     "output_type": "stream",
     "text": [
      "This is Text-Fabric 2.3.6\n",
      "Api reference : https://github.com/ETCBC/text-fabric/wiki/Api\n",
      "Tutorial      : https://github.com/ETCBC/text-fabric/blob/master/docs/tutorial.ipynb\n",
      "Data sources  : https://github.com/ETCBC/text-fabric-data\n",
      "Data docs     : https://etcbc.github.io/text-fabric-data\n",
      "Shebanq docs  : https://shebanq.ancient-data.org/text\n",
      "Slack team    : https://shebanq.slack.com/signup\n",
      "Questions? Ask shebanq@ancient-data.org for an invite to Slack\n",
      "108 features found and 0 ignored\n"
     ]
    }
   ],
   "source": [
    "from tf.fabric import Fabric\n",
    "TF = Fabric(modules='hebrew/etcbc4c')"
   ]
  },
  {
   "cell_type": "code",
   "execution_count": 5,
   "metadata": {
    "collapsed": false
   },
   "outputs": [],
   "source": [
    "#Activate relevant linguistic features"
   ]
  },
  {
   "cell_type": "code",
   "execution_count": 3,
   "metadata": {
    "collapsed": false
   },
   "outputs": [
    {
     "name": "stdout",
     "output_type": "stream",
     "text": [
      "  0.00s loading features ...\n",
      "   |     0.29s B lex                  from /Users/jAir/github/text-fabric-data/hebrew/etcbc4c\n",
      "   |     0.00s Feature overview: 102 for nodes; 5 for edges; 1 configs; 7 computed\n",
      "    11s All features loaded/computed - for details use loadLog()\n"
     ]
    }
   ],
   "source": [
    "api = TF.load('''\n",
    "    lex\n",
    "    \n",
    "''')"
   ]
  },
  {
   "cell_type": "code",
   "execution_count": 4,
   "metadata": {
    "collapsed": false
   },
   "outputs": [
    {
     "name": "stdout",
     "output_type": "stream",
     "text": [
      "   |     0.05s B otype                from /Users/jAir/github/text-fabric-data/hebrew/etcbc4c\n",
      "   |     1.37s B oslots               from /Users/jAir/github/text-fabric-data/hebrew/etcbc4c\n",
      "   |     0.01s M otext                from /Users/jAir/github/text-fabric-data/hebrew/etcbc4c\n",
      "   |     0.02s B book                 from /Users/jAir/github/text-fabric-data/hebrew/etcbc4c\n",
      "   |     0.01s B chapter              from /Users/jAir/github/text-fabric-data/hebrew/etcbc4c\n",
      "   |     0.02s B verse                from /Users/jAir/github/text-fabric-data/hebrew/etcbc4c\n",
      "   |     0.30s B g_cons               from /Users/jAir/github/text-fabric-data/hebrew/etcbc4c\n",
      "   |     0.39s B g_cons_utf8          from /Users/jAir/github/text-fabric-data/hebrew/etcbc4c\n",
      "   |     0.31s B g_lex                from /Users/jAir/github/text-fabric-data/hebrew/etcbc4c\n",
      "   |     0.43s B g_lex_utf8           from /Users/jAir/github/text-fabric-data/hebrew/etcbc4c\n",
      "   |     0.37s B g_word               from /Users/jAir/github/text-fabric-data/hebrew/etcbc4c\n",
      "   |     0.52s B g_word_utf8          from /Users/jAir/github/text-fabric-data/hebrew/etcbc4c\n",
      "   |     0.25s B lex0                 from /Users/jAir/github/text-fabric-data/hebrew/etcbc4c\n",
      "   |     0.37s B lex_utf8             from /Users/jAir/github/text-fabric-data/hebrew/etcbc4c\n",
      "   |     0.01s B qere                 from /Users/jAir/github/text-fabric-data/hebrew/etcbc4c\n",
      "   |     0.00s B qere_trailer         from /Users/jAir/github/text-fabric-data/hebrew/etcbc4c\n",
      "   |     0.00s B qere_trailer_utf8    from /Users/jAir/github/text-fabric-data/hebrew/etcbc4c\n",
      "   |     0.00s B qere_utf8            from /Users/jAir/github/text-fabric-data/hebrew/etcbc4c\n",
      "   |     0.16s B trailer              from /Users/jAir/github/text-fabric-data/hebrew/etcbc4c\n",
      "   |     0.17s B trailer_utf8         from /Users/jAir/github/text-fabric-data/hebrew/etcbc4c\n",
      "   |     0.00s B __levels__           from otype, oslots\n",
      "   |     0.15s B __order__            from otype, oslots, __levels__\n",
      "   |     0.14s B __rank__             from otype, __order__\n",
      "   |     2.57s B __levUp__            from otype, oslots, __rank__\n",
      "   |     2.15s B __levDown__          from otype, __levUp__, __rank__\n",
      "   |     0.69s B __boundary__         from otype, oslots, __rank__\n",
      "   |     0.02s B __sections__         from otype, oslots, otext, __levUp__, __levels__, book, chapter, verse\n",
      "   |     0.29s B lex                  from /Users/jAir/github/text-fabric-data/hebrew/etcbc4c\n",
      "   |     0.00s B book@am              from /Users/jAir/github/text-fabric-data/hebrew/etcbc4c\n",
      "   |     0.00s B book@ar              from /Users/jAir/github/text-fabric-data/hebrew/etcbc4c\n",
      "   |     0.00s B book@bn              from /Users/jAir/github/text-fabric-data/hebrew/etcbc4c\n",
      "   |     0.00s B book@da              from /Users/jAir/github/text-fabric-data/hebrew/etcbc4c\n",
      "   |     0.00s B book@de              from /Users/jAir/github/text-fabric-data/hebrew/etcbc4c\n",
      "   |     0.00s B book@el              from /Users/jAir/github/text-fabric-data/hebrew/etcbc4c\n",
      "   |     0.00s B book@en              from /Users/jAir/github/text-fabric-data/hebrew/etcbc4c\n",
      "   |     0.00s B book@es              from /Users/jAir/github/text-fabric-data/hebrew/etcbc4c\n",
      "   |     0.00s B book@fa              from /Users/jAir/github/text-fabric-data/hebrew/etcbc4c\n",
      "   |     0.00s B book@fr              from /Users/jAir/github/text-fabric-data/hebrew/etcbc4c\n",
      "   |     0.00s B book@he              from /Users/jAir/github/text-fabric-data/hebrew/etcbc4c\n",
      "   |     0.00s B book@hi              from /Users/jAir/github/text-fabric-data/hebrew/etcbc4c\n",
      "   |     0.00s B book@id              from /Users/jAir/github/text-fabric-data/hebrew/etcbc4c\n",
      "   |     0.00s B book@ja              from /Users/jAir/github/text-fabric-data/hebrew/etcbc4c\n",
      "   |     0.00s B book@ko              from /Users/jAir/github/text-fabric-data/hebrew/etcbc4c\n",
      "   |     0.00s B book@la              from /Users/jAir/github/text-fabric-data/hebrew/etcbc4c\n",
      "   |     0.00s B book@nl              from /Users/jAir/github/text-fabric-data/hebrew/etcbc4c\n",
      "   |     0.00s B book@pa              from /Users/jAir/github/text-fabric-data/hebrew/etcbc4c\n",
      "   |     0.00s B book@pt              from /Users/jAir/github/text-fabric-data/hebrew/etcbc4c\n",
      "   |     0.00s B book@ru              from /Users/jAir/github/text-fabric-data/hebrew/etcbc4c\n",
      "   |     0.00s B book@sw              from /Users/jAir/github/text-fabric-data/hebrew/etcbc4c\n",
      "   |     0.00s B book@syc             from /Users/jAir/github/text-fabric-data/hebrew/etcbc4c\n",
      "   |     0.00s B book@tr              from /Users/jAir/github/text-fabric-data/hebrew/etcbc4c\n",
      "   |     0.00s B book@ur              from /Users/jAir/github/text-fabric-data/hebrew/etcbc4c\n",
      "   |     0.00s B book@yo              from /Users/jAir/github/text-fabric-data/hebrew/etcbc4c\n",
      "   |     0.00s B book@zh              from /Users/jAir/github/text-fabric-data/hebrew/etcbc4c\n",
      "   |     0.00s M code                 from /Users/jAir/github/text-fabric-data/hebrew/etcbc4c\n",
      "   |     0.00s M det                  from /Users/jAir/github/text-fabric-data/hebrew/etcbc4c\n",
      "   |     0.00s M dist                 from /Users/jAir/github/text-fabric-data/hebrew/etcbc4c\n",
      "   |     0.00s M dist_unit            from /Users/jAir/github/text-fabric-data/hebrew/etcbc4c\n",
      "   |     0.00s M distributional_parent from /Users/jAir/github/text-fabric-data/hebrew/etcbc4c\n",
      "   |     0.00s M domain               from /Users/jAir/github/text-fabric-data/hebrew/etcbc4c\n",
      "   |     0.00s M freq_lex             from /Users/jAir/github/text-fabric-data/hebrew/etcbc4c\n",
      "   |     0.00s M freq_occ             from /Users/jAir/github/text-fabric-data/hebrew/etcbc4c\n",
      "   |     0.00s M function             from /Users/jAir/github/text-fabric-data/hebrew/etcbc4c\n",
      "   |     0.00s M functional_parent    from /Users/jAir/github/text-fabric-data/hebrew/etcbc4c\n",
      "   |     0.00s M g_nme                from /Users/jAir/github/text-fabric-data/hebrew/etcbc4c\n",
      "   |     0.00s M g_nme_utf8           from /Users/jAir/github/text-fabric-data/hebrew/etcbc4c\n",
      "   |     0.00s M g_pfm                from /Users/jAir/github/text-fabric-data/hebrew/etcbc4c\n",
      "   |     0.00s M g_pfm_utf8           from /Users/jAir/github/text-fabric-data/hebrew/etcbc4c\n",
      "   |     0.00s M g_prs                from /Users/jAir/github/text-fabric-data/hebrew/etcbc4c\n",
      "   |     0.00s M g_prs_utf8           from /Users/jAir/github/text-fabric-data/hebrew/etcbc4c\n",
      "   |     0.00s M g_uvf                from /Users/jAir/github/text-fabric-data/hebrew/etcbc4c\n",
      "   |     0.00s M g_uvf_utf8           from /Users/jAir/github/text-fabric-data/hebrew/etcbc4c\n",
      "   |     0.00s M g_vbe                from /Users/jAir/github/text-fabric-data/hebrew/etcbc4c\n",
      "   |     0.00s M g_vbe_utf8           from /Users/jAir/github/text-fabric-data/hebrew/etcbc4c\n",
      "   |     0.00s M g_vbs                from /Users/jAir/github/text-fabric-data/hebrew/etcbc4c\n",
      "   |     0.00s M g_vbs_utf8           from /Users/jAir/github/text-fabric-data/hebrew/etcbc4c\n",
      "   |     0.00s M gloss                from /Users/jAir/github/text-fabric-data/hebrew/etcbc4c\n",
      "   |     0.00s M gn                   from /Users/jAir/github/text-fabric-data/hebrew/etcbc4c\n",
      "   |     0.00s M instruction          from /Users/jAir/github/text-fabric-data/hebrew/etcbc4c\n",
      "   |     0.00s M is_root              from /Users/jAir/github/text-fabric-data/hebrew/etcbc4c\n",
      "   |     0.00s M kind                 from /Users/jAir/github/text-fabric-data/hebrew/etcbc4c\n",
      "   |     0.00s M label                from /Users/jAir/github/text-fabric-data/hebrew/etcbc4c\n",
      "   |     0.00s M language             from /Users/jAir/github/text-fabric-data/hebrew/etcbc4c\n",
      "   |     0.00s M ls                   from /Users/jAir/github/text-fabric-data/hebrew/etcbc4c\n",
      "   |     0.00s M mother               from /Users/jAir/github/text-fabric-data/hebrew/etcbc4c\n",
      "   |     0.00s M mother_object_type   from /Users/jAir/github/text-fabric-data/hebrew/etcbc4c\n",
      "   |     0.00s M nametype             from /Users/jAir/github/text-fabric-data/hebrew/etcbc4c\n",
      "   |     0.00s M nme                  from /Users/jAir/github/text-fabric-data/hebrew/etcbc4c\n",
      "   |     0.00s M nu                   from /Users/jAir/github/text-fabric-data/hebrew/etcbc4c\n",
      "   |     0.00s M number               from /Users/jAir/github/text-fabric-data/hebrew/etcbc4c\n",
      "   |     0.00s M omap@4b-4c           from /Users/jAir/github/text-fabric-data/hebrew/etcbc4c\n",
      "   |     0.00s M otext                from /Users/jAir/github/text-fabric-data/hebrew/etcbc4c\n",
      "   |     0.00s M pargr                from /Users/jAir/github/text-fabric-data/hebrew/etcbc4c\n",
      "   |     0.00s M pdp                  from /Users/jAir/github/text-fabric-data/hebrew/etcbc4c\n",
      "   |     0.00s M pfm                  from /Users/jAir/github/text-fabric-data/hebrew/etcbc4c\n",
      "   |     0.00s M prs                  from /Users/jAir/github/text-fabric-data/hebrew/etcbc4c\n",
      "   |     0.00s M prs_gn               from /Users/jAir/github/text-fabric-data/hebrew/etcbc4c\n",
      "   |     0.00s M prs_nu               from /Users/jAir/github/text-fabric-data/hebrew/etcbc4c\n",
      "   |     0.00s M prs_ps               from /Users/jAir/github/text-fabric-data/hebrew/etcbc4c\n",
      "   |     0.00s M ps                   from /Users/jAir/github/text-fabric-data/hebrew/etcbc4c\n",
      "   |     0.00s M rank_lex             from /Users/jAir/github/text-fabric-data/hebrew/etcbc4c\n",
      "   |     0.00s M rank_occ             from /Users/jAir/github/text-fabric-data/hebrew/etcbc4c\n",
      "   |     0.00s M rela                 from /Users/jAir/github/text-fabric-data/hebrew/etcbc4c\n",
      "   |     0.00s M root                 from /Users/jAir/github/text-fabric-data/hebrew/etcbc4c\n",
      "   |     0.00s M sp                   from /Users/jAir/github/text-fabric-data/hebrew/etcbc4c\n",
      "   |     0.00s M st                   from /Users/jAir/github/text-fabric-data/hebrew/etcbc4c\n",
      "   |     0.00s M tab                  from /Users/jAir/github/text-fabric-data/hebrew/etcbc4c\n",
      "   |     0.00s M txt                  from /Users/jAir/github/text-fabric-data/hebrew/etcbc4c\n",
      "   |     0.00s M typ                  from /Users/jAir/github/text-fabric-data/hebrew/etcbc4c\n",
      "   |     0.00s M uvf                  from /Users/jAir/github/text-fabric-data/hebrew/etcbc4c\n",
      "   |     0.00s M vbe                  from /Users/jAir/github/text-fabric-data/hebrew/etcbc4c\n",
      "   |     0.00s M vbs                  from /Users/jAir/github/text-fabric-data/hebrew/etcbc4c\n",
      "   |     0.00s M voc                  from /Users/jAir/github/text-fabric-data/hebrew/etcbc4c\n",
      "   |     0.00s M voc_utf8             from /Users/jAir/github/text-fabric-data/hebrew/etcbc4c\n",
      "   |     0.00s M vs                   from /Users/jAir/github/text-fabric-data/hebrew/etcbc4c\n",
      "   |     0.00s M vt                   from /Users/jAir/github/text-fabric-data/hebrew/etcbc4c\n"
     ]
    }
   ],
   "source": [
    "api.loadLog()\n",
    "api.makeAvailableIn(globals())"
   ]
  },
  {
   "cell_type": "markdown",
   "metadata": {},
   "source": [
    "We count total occurrences of >NJ and >NKJ."
   ]
  },
  {
   "cell_type": "code",
   "execution_count": 6,
   "metadata": {
    "collapsed": false
   },
   "outputs": [
    {
     "name": "stdout",
     "output_type": "stream",
     "text": [
      "la count is 5521\n",
      "lo count is 5870\n"
     ]
    }
   ],
   "source": [
    "la = 0\n",
    "lo = 0\n",
    "\n",
    "for word in F.otype.s('word'):\n",
    "    if F.lex.v(word) == '>L':\n",
    "        la += 1\n",
    "    elif F.lex.v(word) == '<L':\n",
    "        lo += 1\n",
    "        \n",
    "print('la count is', la)\n",
    "print('lo count is', lo)"
   ]
  },
  {
   "cell_type": "markdown",
   "metadata": {},
   "source": [
    "In the dictionary la/lo_per_book we count the alternatives for 'la/lo' in each book."
   ]
  },
  {
   "cell_type": "code",
   "execution_count": 7,
   "metadata": {
    "collapsed": false
   },
   "outputs": [
    {
     "name": "stdout",
     "output_type": "stream",
     "text": [
      "defaultdict(<function <lambda> at 0x18116df28>, {'Genesis': defaultdict(<class 'int'>, {'lo': 304, 'la': 475}), 'Exodus': defaultdict(<class 'int'>, {'lo': 375, 'la': 398}), 'Leviticus': defaultdict(<class 'int'>, {'la': 244, 'lo': 329}), 'Numbers': defaultdict(<class 'int'>, {'la': 358, 'lo': 311}), 'Deuteronomy': defaultdict(<class 'int'>, {'la': 208, 'lo': 208}), 'Joshua': defaultdict(<class 'int'>, {'la': 218, 'lo': 85}), 'Judges': defaultdict(<class 'int'>, {'la': 232, 'lo': 132}), '1_Samuel': defaultdict(<class 'int'>, {'lo': 175, 'la': 361}), '2_Samuel': defaultdict(<class 'int'>, {'lo': 197, 'la': 308}), '1_Kings': defaultdict(<class 'int'>, {'la': 289, 'lo': 268}), '2_Kings': defaultdict(<class 'int'>, {'la': 293, 'lo': 242}), 'Isaiah': defaultdict(<class 'int'>, {'lo': 335, 'la': 181}), 'Jeremiah': defaultdict(<class 'int'>, {'la': 526, 'lo': 515}), 'Ezekiel': defaultdict(<class 'int'>, {'lo': 418, 'la': 502}), 'Hosea': defaultdict(<class 'int'>, {'la': 30, 'lo': 46}), 'Joel': defaultdict(<class 'int'>, {'la': 12, 'lo': 19}), 'Amos': defaultdict(<class 'int'>, {'lo': 79, 'la': 14}), 'Obadiah': defaultdict(<class 'int'>, {'lo': 5}), 'Jonah': defaultdict(<class 'int'>, {'la': 34, 'lo': 23}), 'Micah': defaultdict(<class 'int'>, {'la': 7, 'lo': 34}), 'Nahum': defaultdict(<class 'int'>, {'la': 3, 'lo': 13}), 'Habakkuk': defaultdict(<class 'int'>, {'la': 4, 'lo': 19}), 'Zephaniah': defaultdict(<class 'int'>, {'la': 3, 'lo': 28}), 'Haggai': defaultdict(<class 'int'>, {'la': 19, 'lo': 14}), 'Zechariah': defaultdict(<class 'int'>, {'la': 76, 'lo': 70}), 'Malachi': defaultdict(<class 'int'>, {'la': 10, 'lo': 15}), 'Psalms': defaultdict(<class 'int'>, {'lo': 318, 'la': 148}), 'Job': defaultdict(<class 'int'>, {'lo': 202, 'la': 78}), 'Proverbs': defaultdict(<class 'int'>, {'lo': 71, 'la': 23}), 'Ruth': defaultdict(<class 'int'>, {'la': 21, 'lo': 13}), 'Song_of_songs': defaultdict(<class 'int'>, {'lo': 26, 'la': 7}), 'Ecclesiastes': defaultdict(<class 'int'>, {'la': 23, 'lo': 38}), 'Lamentations': defaultdict(<class 'int'>, {'lo': 38, 'la': 11}), 'Esther': defaultdict(<class 'int'>, {'lo': 79, 'la': 59}), 'Daniel': defaultdict(<class 'int'>, {'lo': 135, 'la': 35}), 'Ezra': defaultdict(<class 'int'>, {'lo': 82, 'la': 20}), 'Nehemiah': defaultdict(<class 'int'>, {'lo': 118, 'la': 61}), '1_Chronicles': defaultdict(<class 'int'>, {'la': 65, 'lo': 177}), '2_Chronicles': defaultdict(<class 'int'>, {'lo': 314, 'la': 165})})\n"
     ]
    }
   ],
   "source": [
    "book_list = []\n",
    "la_lo_per_book = collections.defaultdict(lambda: collections.defaultdict(int))\n",
    "\n",
    "for word in F.otype.s('word'):\n",
    "    if F.lex.v(word) == '>L':\n",
    "        book = T.sectionFromNode(word)[0]\n",
    "        la_lo_per_book[book]['la'] += 1\n",
    "    elif F.lex.v(word) == '<L':\n",
    "        book = T.sectionFromNode(word)[0]\n",
    "        la_lo_per_book[book]['lo'] += 1\n",
    "        if not book in book_list:\n",
    "                    book_list.append(book)\n",
    "        \n",
    "print(la_lo_per_book)"
   ]
  },
  {
   "cell_type": "code",
   "execution_count": 9,
   "metadata": {
    "collapsed": false
   },
   "outputs": [],
   "source": [
    "csvh = open('la_lo_jarod.csv', \"w\")\n",
    "\n",
    "header = ['book', 'delete', 'la', 'lo']\n",
    "csvh.write('{}\\n'.format(','.join(header)))\n",
    "\n",
    "for book in book_list:\n",
    "    line = [book, str(la_lo_per_book[book])]\n",
    "    csvh.write('{}\\n'.format(','.join(line)))\n",
    "\n",
    "csvh.close()"
   ]
  },
  {
   "cell_type": "code",
   "execution_count": null,
   "metadata": {
    "collapsed": true
   },
   "outputs": [],
   "source": []
  }
 ],
 "metadata": {
  "anaconda-cloud": {},
  "kernelspec": {
   "display_name": "Python 3",
   "language": "python",
   "name": "python3"
  },
  "language_info": {
   "codemirror_mode": {
    "name": "ipython",
    "version": 3
   },
   "file_extension": ".py",
   "mimetype": "text/x-python",
   "name": "python",
   "nbconvert_exporter": "python",
   "pygments_lexer": "ipython3",
   "version": "3.6.0"
  }
 },
 "nbformat": 4,
 "nbformat_minor": 1
}
