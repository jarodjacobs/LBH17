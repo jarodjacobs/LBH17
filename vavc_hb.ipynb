{
 "cells": [
  {
   "cell_type": "markdown",
   "metadata": {},
   "source": [
    "EPPR Clauses in Biblical Hebrew. Making the dataset"
   ]
  },
  {
   "cell_type": "code",
   "execution_count": 1,
   "metadata": {
    "collapsed": true
   },
   "outputs": [],
   "source": [
    "import sys, collections, os"
   ]
  },
  {
   "cell_type": "code",
   "execution_count": 2,
   "metadata": {
    "collapsed": false
   },
   "outputs": [
    {
     "name": "stdout",
     "output_type": "stream",
     "text": [
      "This is Text-Fabric 2.3.6\n",
      "Api reference : https://github.com/ETCBC/text-fabric/wiki/Api\n",
      "Tutorial      : https://github.com/ETCBC/text-fabric/blob/master/docs/tutorial.ipynb\n",
      "Data sources  : https://github.com/ETCBC/text-fabric-data\n",
      "Data docs     : https://etcbc.github.io/text-fabric-data\n",
      "Shebanq docs  : https://shebanq.ancient-data.org/text\n",
      "Slack team    : https://shebanq.slack.com/signup\n",
      "Questions? Ask shebanq@ancient-data.org for an invite to Slack\n",
      "72 features found and 0 ignored\n"
     ]
    }
   ],
   "source": [
    "from tf.fabric import Fabric\n",
    "TF = Fabric(modules='hebrew/etcbc4c')"
   ]
  },
  {
   "cell_type": "markdown",
   "metadata": {},
   "source": [
    "Activate relevant linguistic features"
   ]
  },
  {
   "cell_type": "code",
   "execution_count": 3,
   "metadata": {
    "collapsed": false
   },
   "outputs": [
    {
     "name": "stdout",
     "output_type": "stream",
     "text": [
      "  0.00s loading features ...\n",
      "   |     0.00s B otype                from /Users/jAir/github/text-fabric-data/hebrew/extrabiblical\n",
      "   |     0.01s B lex                  from /Users/jAir/github/text-fabric-data/hebrew/extrabiblical\n",
      "   |     0.01s B language             from /Users/jAir/github/text-fabric-data/hebrew/extrabiblical\n",
      "   |     0.01s B typ                  from /Users/jAir/github/text-fabric-data/hebrew/extrabiblical\n",
      "   |     0.01s B code                 from /Users/jAir/github/text-fabric-data/hebrew/extrabiblical\n",
      "   |     0.01s B function             from /Users/jAir/github/text-fabric-data/hebrew/extrabiblical\n",
      "   |     0.01s B rela                 from /Users/jAir/github/text-fabric-data/hebrew/extrabiblical\n",
      "   |     0.01s B det                  from /Users/jAir/github/text-fabric-data/hebrew/extrabiblical\n",
      "   |     0.01s B vt                   from /Users/jAir/github/text-fabric-data/hebrew/extrabiblical\n",
      "   |     0.01s B vs                   from /Users/jAir/github/text-fabric-data/hebrew/extrabiblical\n",
      "   |     0.00s B txt                  from /Users/jAir/github/text-fabric-data/hebrew/extrabiblical\n",
      "   |     0.01s B sp                   from /Users/jAir/github/text-fabric-data/hebrew/extrabiblical\n",
      "   |     0.01s B mother               from /Users/jAir/github/text-fabric-data/hebrew/extrabiblical\n",
      "   |     0.01s B uvf                  from /Users/jAir/github/text-fabric-data/hebrew/extrabiblical\n",
      "   |     0.00s Feature overview: 65 for nodes; 4 for edges; 3 configs; 7 computed\n",
      "  0.47s All features loaded/computed - for details use loadLog()\n"
     ]
    }
   ],
   "source": [
    "api = TF.load('''\n",
    "    otype lex language\n",
    "    typ code function rela det \n",
    "    vt vs txt sp mother uvf\n",
    "''')"
   ]
  },
  {
   "cell_type": "code",
   "execution_count": 4,
   "metadata": {
    "collapsed": false
   },
   "outputs": [
    {
     "name": "stdout",
     "output_type": "stream",
     "text": [
      "   |     0.00s B otype                from /Users/jAir/github/text-fabric-data/hebrew/extrabiblical\n",
      "   |     0.05s B oslots               from /Users/jAir/github/text-fabric-data/hebrew/extrabiblical\n",
      "   |     0.00s M otext                from /Users/jAir/github/text-fabric-data/hebrew/extrabiblical\n",
      "   |     0.00s B book                 from /Users/jAir/github/text-fabric-data/hebrew/extrabiblical\n",
      "   |     0.00s B chapter              from /Users/jAir/github/text-fabric-data/hebrew/extrabiblical\n",
      "   |     0.00s B verse                from /Users/jAir/github/text-fabric-data/hebrew/extrabiblical\n",
      "   |     0.01s B g_cons               from /Users/jAir/github/text-fabric-data/hebrew/extrabiblical\n",
      "   |     0.02s B g_lex_utf8           from /Users/jAir/github/text-fabric-data/hebrew/extrabiblical\n",
      "   |     0.00s B g_suffix             from /Users/jAir/github/text-fabric-data/hebrew/extrabiblical\n",
      "   |     0.00s B g_suffix_utf8        from /Users/jAir/github/text-fabric-data/hebrew/extrabiblical\n",
      "   |     0.01s B g_word               from /Users/jAir/github/text-fabric-data/hebrew/extrabiblical\n",
      "   |     0.01s B g_word_utf8          from /Users/jAir/github/text-fabric-data/hebrew/extrabiblical\n",
      "   |     0.01s B lex_utf8             from /Users/jAir/github/text-fabric-data/hebrew/extrabiblical\n",
      "   |     0.00s B __levels__           from otype, oslots\n",
      "   |     0.01s B __order__            from otype, oslots, __levels__\n",
      "   |     0.01s B __rank__             from otype, __order__\n",
      "   |     0.07s B __levUp__            from otype, oslots, __rank__\n",
      "   |     0.07s B __levDown__          from otype, __levUp__, __rank__\n",
      "   |     0.02s B __boundary__         from otype, oslots, __rank__\n",
      "   |     0.00s B __sections__         from otype, oslots, otext, __levUp__, __levels__, book, chapter, verse\n",
      "   |     0.01s B lex                  from /Users/jAir/github/text-fabric-data/hebrew/extrabiblical\n",
      "   |     0.01s B language             from /Users/jAir/github/text-fabric-data/hebrew/extrabiblical\n",
      "   |     0.01s B typ                  from /Users/jAir/github/text-fabric-data/hebrew/extrabiblical\n",
      "   |     0.01s B code                 from /Users/jAir/github/text-fabric-data/hebrew/extrabiblical\n",
      "   |     0.01s B function             from /Users/jAir/github/text-fabric-data/hebrew/extrabiblical\n",
      "   |     0.01s B rela                 from /Users/jAir/github/text-fabric-data/hebrew/extrabiblical\n",
      "   |     0.01s B det                  from /Users/jAir/github/text-fabric-data/hebrew/extrabiblical\n",
      "   |     0.01s B vt                   from /Users/jAir/github/text-fabric-data/hebrew/extrabiblical\n",
      "   |     0.01s B vs                   from /Users/jAir/github/text-fabric-data/hebrew/extrabiblical\n",
      "   |     0.00s B txt                  from /Users/jAir/github/text-fabric-data/hebrew/extrabiblical\n",
      "   |     0.01s B sp                   from /Users/jAir/github/text-fabric-data/hebrew/extrabiblical\n",
      "   |     0.01s B mother               from /Users/jAir/github/text-fabric-data/hebrew/extrabiblical\n",
      "   |     0.01s B uvf                  from /Users/jAir/github/text-fabric-data/hebrew/extrabiblical\n",
      "   |     0.00s B book@en              from /Users/jAir/github/text-fabric-data/hebrew/extrabiblical\n",
      "   |     0.00s M dist                 from /Users/jAir/github/text-fabric-data/hebrew/extrabiblical\n",
      "   |     0.00s M dist_unit            from /Users/jAir/github/text-fabric-data/hebrew/extrabiblical\n",
      "   |     0.00s M distributional_parent from /Users/jAir/github/text-fabric-data/hebrew/extrabiblical\n",
      "   |     0.00s M domain               from /Users/jAir/github/text-fabric-data/hebrew/extrabiblical\n",
      "   |     0.00s M functional_parent    from /Users/jAir/github/text-fabric-data/hebrew/extrabiblical\n",
      "   |     0.00s M g_cons_utf8          from /Users/jAir/github/text-fabric-data/hebrew/extrabiblical\n",
      "   |     0.00s M g_lex                from /Users/jAir/github/text-fabric-data/hebrew/extrabiblical\n",
      "   |     0.00s M g_nme                from /Users/jAir/github/text-fabric-data/hebrew/extrabiblical\n",
      "   |     0.00s M g_nme_utf8           from /Users/jAir/github/text-fabric-data/hebrew/extrabiblical\n",
      "   |     0.00s M g_pfm                from /Users/jAir/github/text-fabric-data/hebrew/extrabiblical\n",
      "   |     0.00s M g_pfm_utf8           from /Users/jAir/github/text-fabric-data/hebrew/extrabiblical\n",
      "   |     0.00s M g_prs                from /Users/jAir/github/text-fabric-data/hebrew/extrabiblical\n",
      "   |     0.00s M g_prs_utf8           from /Users/jAir/github/text-fabric-data/hebrew/extrabiblical\n",
      "   |     0.00s M g_uvf                from /Users/jAir/github/text-fabric-data/hebrew/extrabiblical\n",
      "   |     0.00s M g_uvf_utf8           from /Users/jAir/github/text-fabric-data/hebrew/extrabiblical\n",
      "   |     0.00s M g_vbe                from /Users/jAir/github/text-fabric-data/hebrew/extrabiblical\n",
      "   |     0.00s M g_vbe_utf8           from /Users/jAir/github/text-fabric-data/hebrew/extrabiblical\n",
      "   |     0.00s M g_vbs                from /Users/jAir/github/text-fabric-data/hebrew/extrabiblical\n",
      "   |     0.00s M g_vbs_utf8           from /Users/jAir/github/text-fabric-data/hebrew/extrabiblical\n",
      "   |     0.00s M gn                   from /Users/jAir/github/text-fabric-data/hebrew/extrabiblical\n",
      "   |     0.00s M is_root              from /Users/jAir/github/text-fabric-data/hebrew/extrabiblical\n",
      "   |     0.00s M kind                 from /Users/jAir/github/text-fabric-data/hebrew/extrabiblical\n",
      "   |     0.00s M label                from /Users/jAir/github/text-fabric-data/hebrew/extrabiblical\n",
      "   |     0.00s M lexeme_count         from /Users/jAir/github/text-fabric-data/hebrew/extrabiblical\n",
      "   |     0.00s M ls                   from /Users/jAir/github/text-fabric-data/hebrew/extrabiblical\n",
      "   |     0.00s M mother_object_type   from /Users/jAir/github/text-fabric-data/hebrew/extrabiblical\n",
      "   |     0.00s M nme                  from /Users/jAir/github/text-fabric-data/hebrew/extrabiblical\n",
      "   |     0.00s M nu                   from /Users/jAir/github/text-fabric-data/hebrew/extrabiblical\n",
      "   |     0.00s M number               from /Users/jAir/github/text-fabric-data/hebrew/extrabiblical\n",
      "   |     0.00s M otext                from /Users/jAir/github/text-fabric-data/hebrew/extrabiblical\n",
      "   |     0.00s M pdp                  from /Users/jAir/github/text-fabric-data/hebrew/extrabiblical\n",
      "   |     0.00s M pfm                  from /Users/jAir/github/text-fabric-data/hebrew/extrabiblical\n",
      "   |     0.00s M prs                  from /Users/jAir/github/text-fabric-data/hebrew/extrabiblical\n",
      "   |     0.00s M prs_gn               from /Users/jAir/github/text-fabric-data/hebrew/extrabiblical\n",
      "   |     0.00s M prs_nu               from /Users/jAir/github/text-fabric-data/hebrew/extrabiblical\n",
      "   |     0.00s M prs_ps               from /Users/jAir/github/text-fabric-data/hebrew/extrabiblical\n",
      "   |     0.00s M ps                   from /Users/jAir/github/text-fabric-data/hebrew/extrabiblical\n",
      "   |     0.00s M qere                 from /Users/jAir/github/text-fabric-data/hebrew/extrabiblical\n",
      "   |     0.00s M qere_utf8            from /Users/jAir/github/text-fabric-data/hebrew/extrabiblical\n",
      "   |     0.00s M st                   from /Users/jAir/github/text-fabric-data/hebrew/extrabiblical\n",
      "   |     0.00s M suffix_gender        from /Users/jAir/github/text-fabric-data/hebrew/extrabiblical\n",
      "   |     0.00s M suffix_number        from /Users/jAir/github/text-fabric-data/hebrew/extrabiblical\n",
      "   |     0.00s M suffix_person        from /Users/jAir/github/text-fabric-data/hebrew/extrabiblical\n",
      "   |     0.00s M tab                  from /Users/jAir/github/text-fabric-data/hebrew/extrabiblical\n",
      "   |     0.00s M vbe                  from /Users/jAir/github/text-fabric-data/hebrew/extrabiblical\n",
      "   |     0.00s M vbs                  from /Users/jAir/github/text-fabric-data/hebrew/extrabiblical\n"
     ]
    }
   ],
   "source": [
    "api.loadLog()\n",
    "api.makeAvailableIn(globals())"
   ]
  },
  {
   "cell_type": "code",
   "execution_count": 5,
   "metadata": {
    "collapsed": false
   },
   "outputs": [
    {
     "name": "stdout",
     "output_type": "stream",
     "text": [
      "41868\n"
     ]
    }
   ],
   "source": [
    "n = 0\n",
    "\n",
    "for node in N():\n",
    "    n += 1\n",
    "    \n",
    "print(n)"
   ]
  },
  {
   "cell_type": "code",
   "execution_count": 6,
   "metadata": {
    "collapsed": false
   },
   "outputs": [
    {
     "name": "stdout",
     "output_type": "stream",
     "text": [
      "defaultdict(<class 'int'>, {'book': 10, 'chapter': 36, 'half_verse': 711, 'verse': 711, 'sentence': 1810, 'sentence_atom': 1877, 'clause': 2609, 'clause_atom': 2678, 'phrase': 6900, 'phrase_atom': 7176, 'word': 13874, 'subphrase': 3476})\n"
     ]
    }
   ],
   "source": [
    "obj_dict = collections.defaultdict(int)\n",
    "\n",
    "for node in N():\n",
    "    obj_dict[F.otype.v(node)] += 1\n",
    "    \n",
    "print(obj_dict)"
   ]
  },
  {
   "cell_type": "code",
   "execution_count": 7,
   "metadata": {
    "collapsed": false
   },
   "outputs": [
    {
     "data": {
      "text/plain": [
       "False"
      ]
     },
     "execution_count": 7,
     "metadata": {},
     "output_type": "execute_result"
    }
   ],
   "source": [
    "vavc_counter = 0\n",
    "info_dict = {}\n",
    "info_list_vavc = []\n",
    "\n",
    "for word in F.otype.s('word'):\n",
    "    if F.vt.v(word) == 'wayq':\n",
    "        vavc_counter += 1\n",
    "        info = [str(word)]\n",
    "        where = T.sectionFromNode(word)\n",
    "        info.append(where[0])\n",
    "        info.append(str(where[1]))\n",
    "        info.append(str(where[2]))\n",
    "        info.append(F.vt.v(word))\n",
    "        info_dict[word] = info\n",
    "        info_list_vavc.append(word)\n",
    "        \n",
    "        \n",
    "#print(info_dict[426581])\n",
    "426581 in info_list_vavc"
   ]
  },
  {
   "cell_type": "code",
   "execution_count": 11,
   "metadata": {
    "collapsed": false
   },
   "outputs": [],
   "source": [
    "csvh = open(r'vavc_jarod.csv', \"w\")\n",
    "header = ['id', 'book', 'chapter', 'verse', 'lexeme']\n",
    "csvh.write('{}\\n'.format(','.join(header)))\n",
    "for he in info_list_vavc:\n",
    "    line = info_dict[he]\n",
    "    csvh.write('{}\\n'.format(','.join(line)))\n",
    "    \n",
    "csvh.close()"
   ]
  },
  {
   "cell_type": "markdown",
   "metadata": {},
   "source": [
    "Now we count the amount of doms in each book"
   ]
  },
  {
   "cell_type": "code",
   "execution_count": 8,
   "metadata": {
    "collapsed": false,
    "scrolled": true
   },
   "outputs": [
    {
     "name": "stdout",
     "output_type": "stream",
     "text": [
      "defaultdict(<class 'int'>, {'1QM': 2, '1QS': 2, 'Balaam': 7, 'Lachish': 1, 'Mesha_Stela': 34, 'Siloam': 2})\n"
     ]
    }
   ],
   "source": [
    "book_dict = collections.defaultdict(int)\n",
    "\n",
    "for word in F.otype.s('word'):\n",
    "    if F.vt.v(word) == 'wayq':\n",
    "        where = T.sectionFromNode(word)\n",
    "        book_dict[where[0]] += 1\n",
    "    \n",
    "print(book_dict)"
   ]
  },
  {
   "cell_type": "code",
   "execution_count": 9,
   "metadata": {
    "collapsed": false
   },
   "outputs": [],
   "source": [
    "csvh = open('vavc_extrab.csv', \"w\")\n",
    "\n",
    "header = ['book', 'vavc']\n",
    "csvh.write('{}\\n'.format(','.join(header)))\n",
    "\n",
    "for book in book_dict:\n",
    "    line = [book, str(book_dict[book])]\n",
    "    csvh.write('{}\\n'.format(','.join(line)))\n",
    "\n",
    "csvh.close()"
   ]
  },
  {
   "cell_type": "code",
   "execution_count": null,
   "metadata": {
    "collapsed": true
   },
   "outputs": [],
   "source": []
  }
 ],
 "metadata": {
  "anaconda-cloud": {},
  "kernelspec": {
   "display_name": "Python 3",
   "language": "python",
   "name": "python3"
  },
  "language_info": {
   "codemirror_mode": {
    "name": "ipython",
    "version": 3
   },
   "file_extension": ".py",
   "mimetype": "text/x-python",
   "name": "python",
   "nbconvert_exporter": "python",
   "pygments_lexer": "ipython3",
   "version": "3.6.0"
  }
 },
 "nbformat": 4,
 "nbformat_minor": 1
}
