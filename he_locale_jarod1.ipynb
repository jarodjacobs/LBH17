{
 "cells": [
  {
   "cell_type": "markdown",
   "metadata": {},
   "source": [
    "EPPR Clauses in Biblical Hebrew. Making the dataset"
   ]
  },
  {
   "cell_type": "code",
   "execution_count": 1,
   "metadata": {
    "collapsed": true
   },
   "outputs": [],
   "source": [
    "import sys, collections, os"
   ]
  },
  {
   "cell_type": "code",
   "execution_count": 2,
   "metadata": {
    "collapsed": false
   },
   "outputs": [
    {
     "name": "stdout",
     "output_type": "stream",
     "text": [
      "This is Text-Fabric 2.3.6\n",
      "Api reference : https://github.com/ETCBC/text-fabric/wiki/Api\n",
      "Tutorial      : https://github.com/ETCBC/text-fabric/blob/master/docs/tutorial.ipynb\n",
      "Data sources  : https://github.com/ETCBC/text-fabric-data\n",
      "Data docs     : https://etcbc.github.io/text-fabric-data\n",
      "Shebanq docs  : https://shebanq.ancient-data.org/text\n",
      "Slack team    : https://shebanq.slack.com/signup\n",
      "Questions? Ask shebanq@ancient-data.org for an invite to Slack\n",
      "108 features found and 0 ignored\n"
     ]
    }
   ],
   "source": [
    "from tf.fabric import Fabric\n",
    "TF = Fabric(modules='hebrew/etcbc4c')"
   ]
  },
  {
   "cell_type": "markdown",
   "metadata": {},
   "source": [
    "Activate relevant linguistic features"
   ]
  },
  {
   "cell_type": "code",
   "execution_count": 3,
   "metadata": {
    "collapsed": false
   },
   "outputs": [
    {
     "name": "stdout",
     "output_type": "stream",
     "text": [
      "  0.00s loading features ...\n",
      "   |     0.05s B otype                from /Users/jAir/github/text-fabric-data/hebrew/etcbc4c\n",
      "   |     0.28s B lex                  from /Users/jAir/github/text-fabric-data/hebrew/etcbc4c\n",
      "   |     0.28s B language             from /Users/jAir/github/text-fabric-data/hebrew/etcbc4c\n",
      "   |     0.46s B typ                  from /Users/jAir/github/text-fabric-data/hebrew/etcbc4c\n",
      "   |     0.05s B code                 from /Users/jAir/github/text-fabric-data/hebrew/etcbc4c\n",
      "   |     0.16s B function             from /Users/jAir/github/text-fabric-data/hebrew/etcbc4c\n",
      "   |     0.44s B rela                 from /Users/jAir/github/text-fabric-data/hebrew/etcbc4c\n",
      "   |     0.32s B det                  from /Users/jAir/github/text-fabric-data/hebrew/etcbc4c\n",
      "   |     0.26s B vt                   from /Users/jAir/github/text-fabric-data/hebrew/etcbc4c\n",
      "   |     0.25s B vs                   from /Users/jAir/github/text-fabric-data/hebrew/etcbc4c\n",
      "   |     0.05s B txt                  from /Users/jAir/github/text-fabric-data/hebrew/etcbc4c\n",
      "   |     0.33s B sp                   from /Users/jAir/github/text-fabric-data/hebrew/etcbc4c\n",
      "   |     0.45s B mother               from /Users/jAir/github/text-fabric-data/hebrew/etcbc4c\n",
      "   |     0.30s B uvf                  from /Users/jAir/github/text-fabric-data/hebrew/etcbc4c\n",
      "   |     0.00s Feature overview: 102 for nodes; 5 for edges; 1 configs; 7 computed\n",
      "    15s All features loaded/computed - for details use loadLog()\n"
     ]
    }
   ],
   "source": [
    "api = TF.load('''\n",
    "    otype lex language\n",
    "    typ code function rela det \n",
    "    vt vs txt sp mother uvf\n",
    "''')"
   ]
  },
  {
   "cell_type": "code",
   "execution_count": 4,
   "metadata": {
    "collapsed": false
   },
   "outputs": [
    {
     "name": "stdout",
     "output_type": "stream",
     "text": [
      "   |     0.05s B otype                from /Users/jAir/github/text-fabric-data/hebrew/etcbc4c\n",
      "   |     1.42s B oslots               from /Users/jAir/github/text-fabric-data/hebrew/etcbc4c\n",
      "   |     0.01s M otext                from /Users/jAir/github/text-fabric-data/hebrew/etcbc4c\n",
      "   |     0.02s B book                 from /Users/jAir/github/text-fabric-data/hebrew/etcbc4c\n",
      "   |     0.01s B chapter              from /Users/jAir/github/text-fabric-data/hebrew/etcbc4c\n",
      "   |     0.01s B verse                from /Users/jAir/github/text-fabric-data/hebrew/etcbc4c\n",
      "   |     0.34s B g_cons               from /Users/jAir/github/text-fabric-data/hebrew/etcbc4c\n",
      "   |     0.41s B g_cons_utf8          from /Users/jAir/github/text-fabric-data/hebrew/etcbc4c\n",
      "   |     0.40s B g_lex                from /Users/jAir/github/text-fabric-data/hebrew/etcbc4c\n",
      "   |     0.47s B g_lex_utf8           from /Users/jAir/github/text-fabric-data/hebrew/etcbc4c\n",
      "   |     0.35s B g_word               from /Users/jAir/github/text-fabric-data/hebrew/etcbc4c\n",
      "   |     0.52s B g_word_utf8          from /Users/jAir/github/text-fabric-data/hebrew/etcbc4c\n",
      "   |     0.28s B lex0                 from /Users/jAir/github/text-fabric-data/hebrew/etcbc4c\n",
      "   |     0.41s B lex_utf8             from /Users/jAir/github/text-fabric-data/hebrew/etcbc4c\n",
      "   |     0.00s B qere                 from /Users/jAir/github/text-fabric-data/hebrew/etcbc4c\n",
      "   |     0.00s B qere_trailer         from /Users/jAir/github/text-fabric-data/hebrew/etcbc4c\n",
      "   |     0.00s B qere_trailer_utf8    from /Users/jAir/github/text-fabric-data/hebrew/etcbc4c\n",
      "   |     0.01s B qere_utf8            from /Users/jAir/github/text-fabric-data/hebrew/etcbc4c\n",
      "   |     0.16s B trailer              from /Users/jAir/github/text-fabric-data/hebrew/etcbc4c\n",
      "   |     0.18s B trailer_utf8         from /Users/jAir/github/text-fabric-data/hebrew/etcbc4c\n",
      "   |     0.00s B __levels__           from otype, oslots\n",
      "   |     0.16s B __order__            from otype, oslots, __levels__\n",
      "   |     0.14s B __rank__             from otype, __order__\n",
      "   |     2.84s B __levUp__            from otype, oslots, __rank__\n",
      "   |     2.17s B __levDown__          from otype, __levUp__, __rank__\n",
      "   |     0.67s B __boundary__         from otype, oslots, __rank__\n",
      "   |     0.02s B __sections__         from otype, oslots, otext, __levUp__, __levels__, book, chapter, verse\n",
      "   |     0.28s B lex                  from /Users/jAir/github/text-fabric-data/hebrew/etcbc4c\n",
      "   |     0.28s B language             from /Users/jAir/github/text-fabric-data/hebrew/etcbc4c\n",
      "   |     0.46s B typ                  from /Users/jAir/github/text-fabric-data/hebrew/etcbc4c\n",
      "   |     0.05s B code                 from /Users/jAir/github/text-fabric-data/hebrew/etcbc4c\n",
      "   |     0.16s B function             from /Users/jAir/github/text-fabric-data/hebrew/etcbc4c\n",
      "   |     0.44s B rela                 from /Users/jAir/github/text-fabric-data/hebrew/etcbc4c\n",
      "   |     0.32s B det                  from /Users/jAir/github/text-fabric-data/hebrew/etcbc4c\n",
      "   |     0.26s B vt                   from /Users/jAir/github/text-fabric-data/hebrew/etcbc4c\n",
      "   |     0.25s B vs                   from /Users/jAir/github/text-fabric-data/hebrew/etcbc4c\n",
      "   |     0.05s B txt                  from /Users/jAir/github/text-fabric-data/hebrew/etcbc4c\n",
      "   |     0.33s B sp                   from /Users/jAir/github/text-fabric-data/hebrew/etcbc4c\n",
      "   |     0.45s B mother               from /Users/jAir/github/text-fabric-data/hebrew/etcbc4c\n",
      "   |     0.30s B uvf                  from /Users/jAir/github/text-fabric-data/hebrew/etcbc4c\n",
      "   |     0.01s B book@am              from /Users/jAir/github/text-fabric-data/hebrew/etcbc4c\n",
      "   |     0.00s B book@ar              from /Users/jAir/github/text-fabric-data/hebrew/etcbc4c\n",
      "   |     0.00s B book@bn              from /Users/jAir/github/text-fabric-data/hebrew/etcbc4c\n",
      "   |     0.00s B book@da              from /Users/jAir/github/text-fabric-data/hebrew/etcbc4c\n",
      "   |     0.00s B book@de              from /Users/jAir/github/text-fabric-data/hebrew/etcbc4c\n",
      "   |     0.00s B book@el              from /Users/jAir/github/text-fabric-data/hebrew/etcbc4c\n",
      "   |     0.00s B book@en              from /Users/jAir/github/text-fabric-data/hebrew/etcbc4c\n",
      "   |     0.00s B book@es              from /Users/jAir/github/text-fabric-data/hebrew/etcbc4c\n",
      "   |     0.00s B book@fa              from /Users/jAir/github/text-fabric-data/hebrew/etcbc4c\n",
      "   |     0.00s B book@fr              from /Users/jAir/github/text-fabric-data/hebrew/etcbc4c\n",
      "   |     0.00s B book@he              from /Users/jAir/github/text-fabric-data/hebrew/etcbc4c\n",
      "   |     0.00s B book@hi              from /Users/jAir/github/text-fabric-data/hebrew/etcbc4c\n",
      "   |     0.00s B book@id              from /Users/jAir/github/text-fabric-data/hebrew/etcbc4c\n",
      "   |     0.00s B book@ja              from /Users/jAir/github/text-fabric-data/hebrew/etcbc4c\n",
      "   |     0.00s B book@ko              from /Users/jAir/github/text-fabric-data/hebrew/etcbc4c\n",
      "   |     0.00s B book@la              from /Users/jAir/github/text-fabric-data/hebrew/etcbc4c\n",
      "   |     0.00s B book@nl              from /Users/jAir/github/text-fabric-data/hebrew/etcbc4c\n",
      "   |     0.00s B book@pa              from /Users/jAir/github/text-fabric-data/hebrew/etcbc4c\n",
      "   |     0.00s B book@pt              from /Users/jAir/github/text-fabric-data/hebrew/etcbc4c\n",
      "   |     0.00s B book@ru              from /Users/jAir/github/text-fabric-data/hebrew/etcbc4c\n",
      "   |     0.00s B book@sw              from /Users/jAir/github/text-fabric-data/hebrew/etcbc4c\n",
      "   |     0.00s B book@syc             from /Users/jAir/github/text-fabric-data/hebrew/etcbc4c\n",
      "   |     0.00s B book@tr              from /Users/jAir/github/text-fabric-data/hebrew/etcbc4c\n",
      "   |     0.00s B book@ur              from /Users/jAir/github/text-fabric-data/hebrew/etcbc4c\n",
      "   |     0.00s B book@yo              from /Users/jAir/github/text-fabric-data/hebrew/etcbc4c\n",
      "   |     0.00s B book@zh              from /Users/jAir/github/text-fabric-data/hebrew/etcbc4c\n",
      "   |     0.00s M dist                 from /Users/jAir/github/text-fabric-data/hebrew/etcbc4c\n",
      "   |     0.00s M dist_unit            from /Users/jAir/github/text-fabric-data/hebrew/etcbc4c\n",
      "   |     0.00s M distributional_parent from /Users/jAir/github/text-fabric-data/hebrew/etcbc4c\n",
      "   |     0.00s M domain               from /Users/jAir/github/text-fabric-data/hebrew/etcbc4c\n",
      "   |     0.00s M freq_lex             from /Users/jAir/github/text-fabric-data/hebrew/etcbc4c\n",
      "   |     0.00s M freq_occ             from /Users/jAir/github/text-fabric-data/hebrew/etcbc4c\n",
      "   |     0.00s M functional_parent    from /Users/jAir/github/text-fabric-data/hebrew/etcbc4c\n",
      "   |     0.00s M g_nme                from /Users/jAir/github/text-fabric-data/hebrew/etcbc4c\n",
      "   |     0.00s M g_nme_utf8           from /Users/jAir/github/text-fabric-data/hebrew/etcbc4c\n",
      "   |     0.00s M g_pfm                from /Users/jAir/github/text-fabric-data/hebrew/etcbc4c\n",
      "   |     0.00s M g_pfm_utf8           from /Users/jAir/github/text-fabric-data/hebrew/etcbc4c\n",
      "   |     0.00s M g_prs                from /Users/jAir/github/text-fabric-data/hebrew/etcbc4c\n",
      "   |     0.00s M g_prs_utf8           from /Users/jAir/github/text-fabric-data/hebrew/etcbc4c\n",
      "   |     0.00s M g_uvf                from /Users/jAir/github/text-fabric-data/hebrew/etcbc4c\n",
      "   |     0.00s M g_uvf_utf8           from /Users/jAir/github/text-fabric-data/hebrew/etcbc4c\n",
      "   |     0.00s M g_vbe                from /Users/jAir/github/text-fabric-data/hebrew/etcbc4c\n",
      "   |     0.00s M g_vbe_utf8           from /Users/jAir/github/text-fabric-data/hebrew/etcbc4c\n",
      "   |     0.00s M g_vbs                from /Users/jAir/github/text-fabric-data/hebrew/etcbc4c\n",
      "   |     0.00s M g_vbs_utf8           from /Users/jAir/github/text-fabric-data/hebrew/etcbc4c\n",
      "   |     0.00s M gloss                from /Users/jAir/github/text-fabric-data/hebrew/etcbc4c\n",
      "   |     0.00s M gn                   from /Users/jAir/github/text-fabric-data/hebrew/etcbc4c\n",
      "   |     0.00s M instruction          from /Users/jAir/github/text-fabric-data/hebrew/etcbc4c\n",
      "   |     0.00s M is_root              from /Users/jAir/github/text-fabric-data/hebrew/etcbc4c\n",
      "   |     0.00s M kind                 from /Users/jAir/github/text-fabric-data/hebrew/etcbc4c\n",
      "   |     0.00s M label                from /Users/jAir/github/text-fabric-data/hebrew/etcbc4c\n",
      "   |     0.00s M ls                   from /Users/jAir/github/text-fabric-data/hebrew/etcbc4c\n",
      "   |     0.00s M mother_object_type   from /Users/jAir/github/text-fabric-data/hebrew/etcbc4c\n",
      "   |     0.00s M nametype             from /Users/jAir/github/text-fabric-data/hebrew/etcbc4c\n",
      "   |     0.00s M nme                  from /Users/jAir/github/text-fabric-data/hebrew/etcbc4c\n",
      "   |     0.00s M nu                   from /Users/jAir/github/text-fabric-data/hebrew/etcbc4c\n",
      "   |     0.00s M number               from /Users/jAir/github/text-fabric-data/hebrew/etcbc4c\n",
      "   |     0.00s M omap@4b-4c           from /Users/jAir/github/text-fabric-data/hebrew/etcbc4c\n",
      "   |     0.00s M otext                from /Users/jAir/github/text-fabric-data/hebrew/etcbc4c\n",
      "   |     0.00s M pargr                from /Users/jAir/github/text-fabric-data/hebrew/etcbc4c\n",
      "   |     0.00s M pdp                  from /Users/jAir/github/text-fabric-data/hebrew/etcbc4c\n",
      "   |     0.00s M pfm                  from /Users/jAir/github/text-fabric-data/hebrew/etcbc4c\n",
      "   |     0.00s M prs                  from /Users/jAir/github/text-fabric-data/hebrew/etcbc4c\n",
      "   |     0.00s M prs_gn               from /Users/jAir/github/text-fabric-data/hebrew/etcbc4c\n",
      "   |     0.00s M prs_nu               from /Users/jAir/github/text-fabric-data/hebrew/etcbc4c\n",
      "   |     0.00s M prs_ps               from /Users/jAir/github/text-fabric-data/hebrew/etcbc4c\n",
      "   |     0.00s M ps                   from /Users/jAir/github/text-fabric-data/hebrew/etcbc4c\n",
      "   |     0.00s M rank_lex             from /Users/jAir/github/text-fabric-data/hebrew/etcbc4c\n",
      "   |     0.00s M rank_occ             from /Users/jAir/github/text-fabric-data/hebrew/etcbc4c\n",
      "   |     0.00s M root                 from /Users/jAir/github/text-fabric-data/hebrew/etcbc4c\n",
      "   |     0.00s M st                   from /Users/jAir/github/text-fabric-data/hebrew/etcbc4c\n",
      "   |     0.00s M tab                  from /Users/jAir/github/text-fabric-data/hebrew/etcbc4c\n",
      "   |     0.00s M vbe                  from /Users/jAir/github/text-fabric-data/hebrew/etcbc4c\n",
      "   |     0.00s M vbs                  from /Users/jAir/github/text-fabric-data/hebrew/etcbc4c\n",
      "   |     0.00s M voc                  from /Users/jAir/github/text-fabric-data/hebrew/etcbc4c\n",
      "   |     0.00s M voc_utf8             from /Users/jAir/github/text-fabric-data/hebrew/etcbc4c\n"
     ]
    }
   ],
   "source": [
    "api.loadLog()\n",
    "api.makeAvailableIn(globals())"
   ]
  },
  {
   "cell_type": "code",
   "execution_count": 5,
   "metadata": {
    "collapsed": false
   },
   "outputs": [
    {
     "name": "stdout",
     "output_type": "stream",
     "text": [
      "1446130\n"
     ]
    }
   ],
   "source": [
    "n = 0\n",
    "\n",
    "for node in N():\n",
    "    n += 1\n",
    "    \n",
    "print(n)"
   ]
  },
  {
   "cell_type": "code",
   "execution_count": 5,
   "metadata": {
    "collapsed": false
   },
   "outputs": [
    {
     "name": "stdout",
     "output_type": "stream",
     "text": [
      "defaultdict(<class 'int'>, {'book': 39, 'chapter': 929, 'verse': 23213, 'sentence': 63570, 'sentence_atom': 64339, 'clause': 88000, 'clause_atom': 90562, 'half_verse': 45180, 'phrase': 253174, 'phrase_atom': 267515, 'lex': 9236, 'word': 426581, 'subphrase': 113792})\n"
     ]
    }
   ],
   "source": [
    "obj_dict = collections.defaultdict(int)\n",
    "\n",
    "for node in N():\n",
    "    obj_dict[F.otype.v(node)] += 1\n",
    "    \n",
    "print(obj_dict)"
   ]
  },
  {
   "cell_type": "code",
   "execution_count": 9,
   "metadata": {
    "collapsed": false
   },
   "outputs": [
    {
     "name": "stdout",
     "output_type": "stream",
     "text": [
      "defaultdict(<function <lambda> at 0x1b5660f28>, {'Genesis': defaultdict(<class 'int'>, {range(1, 426582): 100325}), 'Exodus': defaultdict(<class 'int'>, {range(1, 426582): 77283}), 'Leviticus': defaultdict(<class 'int'>, {range(1, 426582): 54584}), 'Numbers': defaultdict(<class 'int'>, {range(1, 426582): 74053}), 'Deuteronomy': defaultdict(<class 'int'>, {range(1, 426582): 64825}), 'Joshua': defaultdict(<class 'int'>, {range(1, 426582): 44590}), 'Judges': defaultdict(<class 'int'>, {range(1, 426582): 47556}), '1_Samuel': defaultdict(<class 'int'>, {range(1, 426582): 64542}), '2_Samuel': defaultdict(<class 'int'>, {range(1, 426582): 52379}), '1_Kings': defaultdict(<class 'int'>, {range(1, 426582): 60624}), '2_Kings': defaultdict(<class 'int'>, {range(1, 426582): 57209}), 'Isaiah': defaultdict(<class 'int'>, {range(1, 426582): 83845}), 'Jeremiah': defaultdict(<class 'int'>, {range(1, 426582): 99567}), 'Ezekiel': defaultdict(<class 'int'>, {range(1, 426582): 89381}), 'Hosea': defaultdict(<class 'int'>, {range(1, 426582): 11886}), 'Joel': defaultdict(<class 'int'>, {range(1, 426582): 4645}), 'Amos': defaultdict(<class 'int'>, {range(1, 426582): 9860}), 'Obadiah': defaultdict(<class 'int'>, {range(1, 426582): 1388}), 'Jonah': defaultdict(<class 'int'>, {range(1, 426582): 3450}), 'Micah': defaultdict(<class 'int'>, {range(1, 426582): 6784}), 'Nahum': defaultdict(<class 'int'>, {range(1, 426582): 2906}), 'Habakkuk': defaultdict(<class 'int'>, {range(1, 426582): 3416}), 'Zephaniah': defaultdict(<class 'int'>, {range(1, 426582): 3614}), 'Haggai': defaultdict(<class 'int'>, {range(1, 426582): 2737}), 'Zechariah': defaultdict(<class 'int'>, {range(1, 426582): 15312}), 'Malachi': defaultdict(<class 'int'>, {range(1, 426582): 4288}), 'Psalms': defaultdict(<class 'int'>, {range(1, 426582): 99356}), 'Job': defaultdict(<class 'int'>, {range(1, 426582): 43415}), 'Proverbs': defaultdict(<class 'int'>, {range(1, 426582): 35260}), 'Ruth': defaultdict(<class 'int'>, {range(1, 426582): 6563}), 'Song_of_songs': defaultdict(<class 'int'>, {range(1, 426582): 6086}), 'Ecclesiastes': defaultdict(<class 'int'>, {range(1, 426582): 14426}), 'Lamentations': defaultdict(<class 'int'>, {range(1, 426582): 7377}), 'Esther': defaultdict(<class 'int'>, {range(1, 426582): 13743}), 'Daniel': defaultdict(<class 'int'>, {range(1, 426582): 28086}), 'Ezra': defaultdict(<class 'int'>, {range(1, 426582): 16607}), 'Nehemiah': defaultdict(<class 'int'>, {range(1, 426582): 24358}), '1_Chronicles': defaultdict(<class 'int'>, {range(1, 426582): 48796}), '2_Chronicles': defaultdict(<class 'int'>, {range(1, 426582): 61008})})\n"
     ]
    }
   ],
   "source": [
    "obj_per_book_dict = collections.defaultdict(lambda: collections.defaultdict(int)) #we do not discuss the syntax of lambda here\n",
    "\n",
    "for node in N():\n",
    "    where = T.sectionFromNode(node)\n",
    "    book = where[0] #now we know the book\n",
    "    obj_type = F.otype.s('word') #now we know the object type\n",
    "    obj_per_book_dict[book][obj_type] += 1\n",
    "    \n",
    "print(obj_per_book_dict)"
   ]
  },
  {
   "cell_type": "code",
   "execution_count": null,
   "metadata": {
    "collapsed": true
   },
   "outputs": [],
   "source": []
  },
  {
   "cell_type": "code",
   "execution_count": 10,
   "metadata": {
    "collapsed": false
   },
   "outputs": [],
   "source": [
    "csvh = open(r'C:\\Users\\Martijn\\Documents\\SynVar\\NominalSentence\\he_locale_jarod.csv', \"w\")\n",
    "header = ['id', 'book', 'chapter', 'verse', 'lexeme']\n",
    "csvh.write('{}\\n'.format(','.join(header)))\n",
    "for he in info_list_h:\n",
    "    line = info_dict[he]\n",
    "    csvh.write('{}\\n'.format(','.join(line)))\n",
    "    \n",
    "csvh.close()"
   ]
  },
  {
   "cell_type": "code",
   "execution_count": null,
   "metadata": {
    "collapsed": true
   },
   "outputs": [],
   "source": []
  },
  {
   "cell_type": "markdown",
   "metadata": {},
   "source": [
    "Now we count the amount of he-locales in each book"
   ]
  },
  {
   "cell_type": "code",
   "execution_count": 11,
   "metadata": {
    "collapsed": false
   },
   "outputs": [
    {
     "name": "stdout",
     "output_type": "stream",
     "text": [
      "defaultdict(<class 'int'>, {'Genesis': 137, 'Exodus': 70, 'Leviticus': 32, 'Numbers': 89, 'Deuteronomy': 65, 'Joshua': 114, 'Judges': 51, '1_Samuel': 54, '2_Samuel': 40, '1_Kings': 41, '2_Kings': 51, 'Isaiah': 23, 'Jeremiah': 48, 'Ezekiel': 120, 'Hosea': 2, 'Joel': 2, 'Amos': 2, 'Jonah': 3, 'Micah': 1, 'Habakkuk': 2, 'Haggai': 2, 'Zechariah': 4, 'Psalms': 9, 'Job': 5, 'Proverbs': 2, 'Ruth': 2, 'Song_of_songs': 2, 'Ecclesiastes': 4, 'Daniel': 9, 'Ezra': 2, 'Nehemiah': 2, '1_Chronicles': 34, '2_Chronicles': 44})\n"
     ]
    }
   ],
   "source": [
    "book_dict = collections.defaultdict(int)\n",
    "\n",
    "for word in F.otype.s('word'):\n",
    "    if F.uvf.v(word) == 'H':\n",
    "        where = T.sectionFromNode(word)\n",
    "        book_dict[where[0]] += 1\n",
    "    \n",
    "print(book_dict)"
   ]
  },
  {
   "cell_type": "code",
   "execution_count": null,
   "metadata": {
    "collapsed": true
   },
   "outputs": [],
   "source": []
  },
  {
   "cell_type": "code",
   "execution_count": null,
   "metadata": {
    "collapsed": true
   },
   "outputs": [],
   "source": []
  }
 ],
 "metadata": {
  "anaconda-cloud": {},
  "kernelspec": {
   "display_name": "Python 3",
   "language": "python",
   "name": "python3"
  },
  "language_info": {
   "codemirror_mode": {
    "name": "ipython",
    "version": 3
   },
   "file_extension": ".py",
   "mimetype": "text/x-python",
   "name": "python",
   "nbconvert_exporter": "python",
   "pygments_lexer": "ipython3",
   "version": "3.6.0"
  }
 },
 "nbformat": 4,
 "nbformat_minor": 1
}
