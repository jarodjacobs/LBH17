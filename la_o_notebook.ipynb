{
 "cells": [
  {
   "cell_type": "code",
   "execution_count": 1,
   "metadata": {
    "collapsed": true
   },
   "outputs": [],
   "source": [
    "import collections"
   ]
  },
  {
   "cell_type": "code",
   "execution_count": 2,
   "metadata": {
    "collapsed": false
   },
   "outputs": [
    {
     "name": "stdout",
     "output_type": "stream",
     "text": [
      "This is Text-Fabric 2.3.6\n",
      "Api reference : https://github.com/ETCBC/text-fabric/wiki/Api\n",
      "Tutorial      : https://github.com/ETCBC/text-fabric/blob/master/docs/tutorial.ipynb\n",
      "Data sources  : https://github.com/ETCBC/text-fabric-data\n",
      "Data docs     : https://etcbc.github.io/text-fabric-data\n",
      "Shebanq docs  : https://shebanq.ancient-data.org/text\n",
      "Slack team    : https://shebanq.slack.com/signup\n",
      "Questions? Ask shebanq@ancient-data.org for an invite to Slack\n",
      "108 features found and 0 ignored\n"
     ]
    }
   ],
   "source": [
    "from tf.fabric import Fabric\n",
    "TF = Fabric(modules='hebrew/etcbc4c')"
   ]
  },
  {
   "cell_type": "markdown",
   "metadata": {},
   "source": [
    "Activate relevant linguistic features"
   ]
  },
  {
   "cell_type": "code",
   "execution_count": 3,
   "metadata": {
    "collapsed": false
   },
   "outputs": [
    {
     "name": "stdout",
     "output_type": "stream",
     "text": [
      "  0.00s loading features ...\n",
      "   |     0.30s B lex                  from /Users/jAir/github/text-fabric-data/hebrew/etcbc4c\n",
      "   |     0.00s Feature overview: 102 for nodes; 5 for edges; 1 configs; 7 computed\n",
      "    13s All features loaded/computed - for details use loadLog()\n"
     ]
    }
   ],
   "source": [
    "api = TF.load('''\n",
    "    lex\n",
    "    \n",
    "''')"
   ]
  },
  {
   "cell_type": "code",
   "execution_count": 4,
   "metadata": {
    "collapsed": false
   },
   "outputs": [
    {
     "name": "stdout",
     "output_type": "stream",
     "text": [
      "   |     0.04s B otype                from /Users/jAir/github/text-fabric-data/hebrew/etcbc4c\n",
      "   |     1.62s B oslots               from /Users/jAir/github/text-fabric-data/hebrew/etcbc4c\n",
      "   |     0.00s M otext                from /Users/jAir/github/text-fabric-data/hebrew/etcbc4c\n",
      "   |     0.02s B book                 from /Users/jAir/github/text-fabric-data/hebrew/etcbc4c\n",
      "   |     0.01s B chapter              from /Users/jAir/github/text-fabric-data/hebrew/etcbc4c\n",
      "   |     0.01s B verse                from /Users/jAir/github/text-fabric-data/hebrew/etcbc4c\n",
      "   |     0.46s B g_cons               from /Users/jAir/github/text-fabric-data/hebrew/etcbc4c\n",
      "   |     0.43s B g_cons_utf8          from /Users/jAir/github/text-fabric-data/hebrew/etcbc4c\n",
      "   |     0.34s B g_lex                from /Users/jAir/github/text-fabric-data/hebrew/etcbc4c\n",
      "   |     0.49s B g_lex_utf8           from /Users/jAir/github/text-fabric-data/hebrew/etcbc4c\n",
      "   |     0.43s B g_word               from /Users/jAir/github/text-fabric-data/hebrew/etcbc4c\n",
      "   |     0.59s B g_word_utf8          from /Users/jAir/github/text-fabric-data/hebrew/etcbc4c\n",
      "   |     0.35s B lex0                 from /Users/jAir/github/text-fabric-data/hebrew/etcbc4c\n",
      "   |     0.37s B lex_utf8             from /Users/jAir/github/text-fabric-data/hebrew/etcbc4c\n",
      "   |     0.01s B qere                 from /Users/jAir/github/text-fabric-data/hebrew/etcbc4c\n",
      "   |     0.00s B qere_trailer         from /Users/jAir/github/text-fabric-data/hebrew/etcbc4c\n",
      "   |     0.00s B qere_trailer_utf8    from /Users/jAir/github/text-fabric-data/hebrew/etcbc4c\n",
      "   |     0.00s B qere_utf8            from /Users/jAir/github/text-fabric-data/hebrew/etcbc4c\n",
      "   |     0.28s B trailer              from /Users/jAir/github/text-fabric-data/hebrew/etcbc4c\n",
      "   |     0.18s B trailer_utf8         from /Users/jAir/github/text-fabric-data/hebrew/etcbc4c\n",
      "   |     0.00s B __levels__           from otype, oslots\n",
      "   |     0.16s B __order__            from otype, oslots, __levels__\n",
      "   |     0.16s B __rank__             from otype, __order__\n",
      "   |     3.55s B __levUp__            from otype, oslots, __rank__\n",
      "   |     2.04s B __levDown__          from otype, __levUp__, __rank__\n",
      "   |     0.72s B __boundary__         from otype, oslots, __rank__\n",
      "   |     0.03s B __sections__         from otype, oslots, otext, __levUp__, __levels__, book, chapter, verse\n",
      "   |     0.30s B lex                  from /Users/jAir/github/text-fabric-data/hebrew/etcbc4c\n",
      "   |     0.01s B book@am              from /Users/jAir/github/text-fabric-data/hebrew/etcbc4c\n",
      "   |     0.00s B book@ar              from /Users/jAir/github/text-fabric-data/hebrew/etcbc4c\n",
      "   |     0.00s B book@bn              from /Users/jAir/github/text-fabric-data/hebrew/etcbc4c\n",
      "   |     0.00s B book@da              from /Users/jAir/github/text-fabric-data/hebrew/etcbc4c\n",
      "   |     0.00s B book@de              from /Users/jAir/github/text-fabric-data/hebrew/etcbc4c\n",
      "   |     0.00s B book@el              from /Users/jAir/github/text-fabric-data/hebrew/etcbc4c\n",
      "   |     0.00s B book@en              from /Users/jAir/github/text-fabric-data/hebrew/etcbc4c\n",
      "   |     0.00s B book@es              from /Users/jAir/github/text-fabric-data/hebrew/etcbc4c\n",
      "   |     0.00s B book@fa              from /Users/jAir/github/text-fabric-data/hebrew/etcbc4c\n",
      "   |     0.01s B book@fr              from /Users/jAir/github/text-fabric-data/hebrew/etcbc4c\n",
      "   |     0.00s B book@he              from /Users/jAir/github/text-fabric-data/hebrew/etcbc4c\n",
      "   |     0.00s B book@hi              from /Users/jAir/github/text-fabric-data/hebrew/etcbc4c\n",
      "   |     0.00s B book@id              from /Users/jAir/github/text-fabric-data/hebrew/etcbc4c\n",
      "   |     0.00s B book@ja              from /Users/jAir/github/text-fabric-data/hebrew/etcbc4c\n",
      "   |     0.00s B book@ko              from /Users/jAir/github/text-fabric-data/hebrew/etcbc4c\n",
      "   |     0.00s B book@la              from /Users/jAir/github/text-fabric-data/hebrew/etcbc4c\n",
      "   |     0.00s B book@nl              from /Users/jAir/github/text-fabric-data/hebrew/etcbc4c\n",
      "   |     0.00s B book@pa              from /Users/jAir/github/text-fabric-data/hebrew/etcbc4c\n",
      "   |     0.00s B book@pt              from /Users/jAir/github/text-fabric-data/hebrew/etcbc4c\n",
      "   |     0.00s B book@ru              from /Users/jAir/github/text-fabric-data/hebrew/etcbc4c\n",
      "   |     0.00s B book@sw              from /Users/jAir/github/text-fabric-data/hebrew/etcbc4c\n",
      "   |     0.00s B book@syc             from /Users/jAir/github/text-fabric-data/hebrew/etcbc4c\n",
      "   |     0.00s B book@tr              from /Users/jAir/github/text-fabric-data/hebrew/etcbc4c\n",
      "   |     0.00s B book@ur              from /Users/jAir/github/text-fabric-data/hebrew/etcbc4c\n",
      "   |     0.00s B book@yo              from /Users/jAir/github/text-fabric-data/hebrew/etcbc4c\n",
      "   |     0.00s B book@zh              from /Users/jAir/github/text-fabric-data/hebrew/etcbc4c\n",
      "   |     0.00s M code                 from /Users/jAir/github/text-fabric-data/hebrew/etcbc4c\n",
      "   |     0.00s M det                  from /Users/jAir/github/text-fabric-data/hebrew/etcbc4c\n",
      "   |     0.00s M dist                 from /Users/jAir/github/text-fabric-data/hebrew/etcbc4c\n",
      "   |     0.00s M dist_unit            from /Users/jAir/github/text-fabric-data/hebrew/etcbc4c\n",
      "   |     0.00s M distributional_parent from /Users/jAir/github/text-fabric-data/hebrew/etcbc4c\n",
      "   |     0.00s M domain               from /Users/jAir/github/text-fabric-data/hebrew/etcbc4c\n",
      "   |     0.00s M freq_lex             from /Users/jAir/github/text-fabric-data/hebrew/etcbc4c\n",
      "   |     0.00s M freq_occ             from /Users/jAir/github/text-fabric-data/hebrew/etcbc4c\n",
      "   |     0.00s M function             from /Users/jAir/github/text-fabric-data/hebrew/etcbc4c\n",
      "   |     0.00s M functional_parent    from /Users/jAir/github/text-fabric-data/hebrew/etcbc4c\n",
      "   |     0.00s M g_nme                from /Users/jAir/github/text-fabric-data/hebrew/etcbc4c\n",
      "   |     0.00s M g_nme_utf8           from /Users/jAir/github/text-fabric-data/hebrew/etcbc4c\n",
      "   |     0.00s M g_pfm                from /Users/jAir/github/text-fabric-data/hebrew/etcbc4c\n",
      "   |     0.00s M g_pfm_utf8           from /Users/jAir/github/text-fabric-data/hebrew/etcbc4c\n",
      "   |     0.00s M g_prs                from /Users/jAir/github/text-fabric-data/hebrew/etcbc4c\n",
      "   |     0.00s M g_prs_utf8           from /Users/jAir/github/text-fabric-data/hebrew/etcbc4c\n",
      "   |     0.00s M g_uvf                from /Users/jAir/github/text-fabric-data/hebrew/etcbc4c\n",
      "   |     0.00s M g_uvf_utf8           from /Users/jAir/github/text-fabric-data/hebrew/etcbc4c\n",
      "   |     0.00s M g_vbe                from /Users/jAir/github/text-fabric-data/hebrew/etcbc4c\n",
      "   |     0.00s M g_vbe_utf8           from /Users/jAir/github/text-fabric-data/hebrew/etcbc4c\n",
      "   |     0.00s M g_vbs                from /Users/jAir/github/text-fabric-data/hebrew/etcbc4c\n",
      "   |     0.00s M g_vbs_utf8           from /Users/jAir/github/text-fabric-data/hebrew/etcbc4c\n",
      "   |     0.00s M gloss                from /Users/jAir/github/text-fabric-data/hebrew/etcbc4c\n",
      "   |     0.00s M gn                   from /Users/jAir/github/text-fabric-data/hebrew/etcbc4c\n",
      "   |     0.00s M instruction          from /Users/jAir/github/text-fabric-data/hebrew/etcbc4c\n",
      "   |     0.00s M is_root              from /Users/jAir/github/text-fabric-data/hebrew/etcbc4c\n",
      "   |     0.00s M kind                 from /Users/jAir/github/text-fabric-data/hebrew/etcbc4c\n",
      "   |     0.00s M label                from /Users/jAir/github/text-fabric-data/hebrew/etcbc4c\n",
      "   |     0.00s M language             from /Users/jAir/github/text-fabric-data/hebrew/etcbc4c\n",
      "   |     0.00s M ls                   from /Users/jAir/github/text-fabric-data/hebrew/etcbc4c\n",
      "   |     0.00s M mother               from /Users/jAir/github/text-fabric-data/hebrew/etcbc4c\n",
      "   |     0.00s M mother_object_type   from /Users/jAir/github/text-fabric-data/hebrew/etcbc4c\n",
      "   |     0.00s M nametype             from /Users/jAir/github/text-fabric-data/hebrew/etcbc4c\n",
      "   |     0.00s M nme                  from /Users/jAir/github/text-fabric-data/hebrew/etcbc4c\n",
      "   |     0.00s M nu                   from /Users/jAir/github/text-fabric-data/hebrew/etcbc4c\n",
      "   |     0.00s M number               from /Users/jAir/github/text-fabric-data/hebrew/etcbc4c\n",
      "   |     0.00s M omap@4b-4c           from /Users/jAir/github/text-fabric-data/hebrew/etcbc4c\n",
      "   |     0.00s M otext                from /Users/jAir/github/text-fabric-data/hebrew/etcbc4c\n",
      "   |     0.00s M pargr                from /Users/jAir/github/text-fabric-data/hebrew/etcbc4c\n",
      "   |     0.00s M pdp                  from /Users/jAir/github/text-fabric-data/hebrew/etcbc4c\n",
      "   |     0.00s M pfm                  from /Users/jAir/github/text-fabric-data/hebrew/etcbc4c\n",
      "   |     0.00s M prs                  from /Users/jAir/github/text-fabric-data/hebrew/etcbc4c\n",
      "   |     0.00s M prs_gn               from /Users/jAir/github/text-fabric-data/hebrew/etcbc4c\n",
      "   |     0.00s M prs_nu               from /Users/jAir/github/text-fabric-data/hebrew/etcbc4c\n",
      "   |     0.00s M prs_ps               from /Users/jAir/github/text-fabric-data/hebrew/etcbc4c\n",
      "   |     0.00s M ps                   from /Users/jAir/github/text-fabric-data/hebrew/etcbc4c\n",
      "   |     0.00s M rank_lex             from /Users/jAir/github/text-fabric-data/hebrew/etcbc4c\n",
      "   |     0.00s M rank_occ             from /Users/jAir/github/text-fabric-data/hebrew/etcbc4c\n",
      "   |     0.00s M rela                 from /Users/jAir/github/text-fabric-data/hebrew/etcbc4c\n",
      "   |     0.00s M root                 from /Users/jAir/github/text-fabric-data/hebrew/etcbc4c\n",
      "   |     0.00s M sp                   from /Users/jAir/github/text-fabric-data/hebrew/etcbc4c\n",
      "   |     0.00s M st                   from /Users/jAir/github/text-fabric-data/hebrew/etcbc4c\n",
      "   |     0.00s M tab                  from /Users/jAir/github/text-fabric-data/hebrew/etcbc4c\n",
      "   |     0.00s M txt                  from /Users/jAir/github/text-fabric-data/hebrew/etcbc4c\n",
      "   |     0.00s M typ                  from /Users/jAir/github/text-fabric-data/hebrew/etcbc4c\n",
      "   |     0.00s M uvf                  from /Users/jAir/github/text-fabric-data/hebrew/etcbc4c\n",
      "   |     0.00s M vbe                  from /Users/jAir/github/text-fabric-data/hebrew/etcbc4c\n",
      "   |     0.00s M vbs                  from /Users/jAir/github/text-fabric-data/hebrew/etcbc4c\n",
      "   |     0.00s M voc                  from /Users/jAir/github/text-fabric-data/hebrew/etcbc4c\n",
      "   |     0.00s M voc_utf8             from /Users/jAir/github/text-fabric-data/hebrew/etcbc4c\n",
      "   |     0.00s M vs                   from /Users/jAir/github/text-fabric-data/hebrew/etcbc4c\n",
      "   |     0.00s M vt                   from /Users/jAir/github/text-fabric-data/hebrew/etcbc4c\n"
     ]
    }
   ],
   "source": [
    "api.loadLog()\n",
    "api.makeAvailableIn(globals())"
   ]
  },
  {
   "cell_type": "code",
   "execution_count": null,
   "metadata": {
    "collapsed": true
   },
   "outputs": [],
   "source": []
  },
  {
   "cell_type": "markdown",
   "metadata": {},
   "source": [
    "We count total occurrences of >NJ and >NKJ."
   ]
  },
  {
   "cell_type": "code",
   "execution_count": 11,
   "metadata": {
    "collapsed": false
   },
   "outputs": [
    {
     "name": "stdout",
     "output_type": "stream",
     "text": [
      "ani count is 874\n",
      "anoki count is 359\n"
     ]
    }
   ],
   "source": [
    "ani = 0\n",
    "anoki = 0\n",
    "\n",
    "for word in F.otype.s('word'):\n",
    "    if F.lex.v(word) == '>NJ':\n",
    "        ani += 1\n",
    "    elif F.lex.v(word) == '>NKJ':\n",
    "        anoki += 1\n",
    "        \n",
    "print('ani count is', ani)\n",
    "print('anoki count is', anoki)"
   ]
  },
  {
   "cell_type": "markdown",
   "metadata": {},
   "source": [
    "In the dictionary I_per_book we count the alternatives for 'I' in each book."
   ]
  },
  {
   "cell_type": "code",
   "execution_count": 13,
   "metadata": {
    "collapsed": false
   },
   "outputs": [
    {
     "name": "stdout",
     "output_type": "stream",
     "text": [
      "defaultdict(<function <lambda> at 0x000002162D03E950>, {'Genesis': defaultdict(<class 'int'>, {'anoki': 56, 'ani': 41}), 'Exodus': defaultdict(<class 'int'>, {'ani': 39, 'anoki': 22}), 'Leviticus': defaultdict(<class 'int'>, {'ani': 71}), 'Numbers': defaultdict(<class 'int'>, {'ani': 21, 'anoki': 7}), 'Deuteronomy': defaultdict(<class 'int'>, {'anoki': 56, 'ani': 9}), 'Joshua': defaultdict(<class 'int'>, {'anoki': 9, 'ani': 4}), 'Judges': defaultdict(<class 'int'>, {'ani': 12, 'anoki': 17}), '1_Samuel': defaultdict(<class 'int'>, {'anoki': 26, 'ani': 20}), '2_Samuel': defaultdict(<class 'int'>, {'anoki': 24, 'ani': 30}), '1_Kings': defaultdict(<class 'int'>, {'ani': 30, 'anoki': 7}), '2_Kings': defaultdict(<class 'int'>, {'ani': 16, 'anoki': 2}), 'Isaiah': defaultdict(<class 'int'>, {'ani': 79, 'anoki': 26}), 'Jeremiah': defaultdict(<class 'int'>, {'anoki': 37, 'ani': 54}), 'Ezekiel': defaultdict(<class 'int'>, {'ani': 169, 'anoki': 1}), 'Hosea': defaultdict(<class 'int'>, {'anoki': 11, 'ani': 12}), 'Joel': defaultdict(<class 'int'>, {'ani': 4}), 'Amos': defaultdict(<class 'int'>, {'anoki': 10, 'ani': 1}), 'Jonah': defaultdict(<class 'int'>, {'anoki': 2, 'ani': 5}), 'Micah': defaultdict(<class 'int'>, {'anoki': 1, 'ani': 2}), 'Habakkuk': defaultdict(<class 'int'>, {'ani': 1}), 'Zephaniah': defaultdict(<class 'int'>, {'ani': 2}), 'Haggai': defaultdict(<class 'int'>, {'ani': 4}), 'Zechariah': defaultdict(<class 'int'>, {'ani': 11, 'anoki': 5}), 'Malachi': defaultdict(<class 'int'>, {'ani': 8, 'anoki': 1}), 'Psalms': defaultdict(<class 'int'>, {'ani': 70, 'anoki': 13}), 'Job': defaultdict(<class 'int'>, {'ani': 29, 'anoki': 14}), 'Proverbs': defaultdict(<class 'int'>, {'ani': 7, 'anoki': 2}), 'Ruth': defaultdict(<class 'int'>, {'ani': 2, 'anoki': 7}), 'Song_of_songs': defaultdict(<class 'int'>, {'ani': 12}), 'Ecclesiastes': defaultdict(<class 'int'>, {'ani': 29}), 'Lamentations': defaultdict(<class 'int'>, {'ani': 4}), 'Esther': defaultdict(<class 'int'>, {'ani': 6}), 'Daniel': defaultdict(<class 'int'>, {'ani': 23, 'anoki': 1}), 'Ezra': defaultdict(<class 'int'>, {'ani': 2}), 'Nehemiah': defaultdict(<class 'int'>, {'ani': 15, 'anoki': 1}), '1_Chronicles': defaultdict(<class 'int'>, {'anoki': 1, 'ani': 12}), '2_Chronicles': defaultdict(<class 'int'>, {'ani': 18})})\n"
     ]
    }
   ],
   "source": [
    "I_per_book = collections.defaultdict(lambda: collections.defaultdict(int))\n",
    "\n",
    "for word in F.otype.s('word'):\n",
    "    if F.lex.v(word) == '>NJ':\n",
    "        book = T.sectionFromNode(word)[0]\n",
    "        I_per_book[book]['ani'] += 1\n",
    "    elif F.lex.v(word) == '>NKJ':\n",
    "        book = T.sectionFromNode(word)[0]\n",
    "        I_per_book[book]['anoki'] += 1\n",
    "        \n",
    "print(I_per_book)"
   ]
  }
 ],
 "metadata": {
  "anaconda-cloud": {},
  "kernelspec": {
   "display_name": "Python 3",
   "language": "python",
   "name": "python3"
  },
  "language_info": {
   "codemirror_mode": {
    "name": "ipython",
    "version": 3
   },
   "file_extension": ".py",
   "mimetype": "text/x-python",
   "name": "python",
   "nbconvert_exporter": "python",
   "pygments_lexer": "ipython3",
   "version": "3.6.0"
  }
 },
 "nbformat": 4,
 "nbformat_minor": 1
}
