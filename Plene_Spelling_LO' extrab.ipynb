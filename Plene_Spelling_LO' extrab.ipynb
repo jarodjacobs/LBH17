{
 "cells": [
  {
   "cell_type": "code",
   "execution_count": 1,
   "metadata": {
    "collapsed": true
   },
   "outputs": [],
   "source": [
    "import sys, collections, os"
   ]
  },
  {
   "cell_type": "code",
   "execution_count": 2,
   "metadata": {
    "collapsed": false
   },
   "outputs": [
    {
     "name": "stdout",
     "output_type": "stream",
     "text": [
      "This is Text-Fabric 2.3.6\n",
      "Api reference : https://github.com/ETCBC/text-fabric/wiki/Api\n",
      "Tutorial      : https://github.com/ETCBC/text-fabric/blob/master/docs/tutorial.ipynb\n",
      "Data sources  : https://github.com/ETCBC/text-fabric-data\n",
      "Data docs     : https://etcbc.github.io/text-fabric-data\n",
      "Shebanq docs  : https://shebanq.ancient-data.org/text\n",
      "Slack team    : https://shebanq.slack.com/signup\n",
      "Questions? Ask shebanq@ancient-data.org for an invite to Slack\n",
      "72 features found and 0 ignored\n"
     ]
    }
   ],
   "source": [
    "from tf.fabric import Fabric\n",
    "XBIB = 'hebrew/extrabiblical'\n",
    "TF = Fabric(locations='~/github/text-fabric-data', modules=[XBIB])"
   ]
  },
  {
   "cell_type": "code",
   "execution_count": 3,
   "metadata": {
    "collapsed": false
   },
   "outputs": [
    {
     "name": "stdout",
     "output_type": "stream",
     "text": [
      "  0.00s loading features ...\n",
      "   |     0.01s B otype                from /Users/jAir/github/text-fabric-data/hebrew/extrabiblical\n",
      "   |     0.01s B g_cons               from /Users/jAir/github/text-fabric-data/hebrew/extrabiblical\n",
      "   |     0.01s B lex                  from /Users/jAir/github/text-fabric-data/hebrew/extrabiblical\n",
      "   |     0.00s Feature overview: 65 for nodes; 4 for edges; 3 configs; 7 computed\n",
      "  0.41s All features loaded/computed - for details use loadLog()\n"
     ]
    }
   ],
   "source": [
    "api = TF.load('''\n",
    "    otype lex g_cons\n",
    "    \n",
    "''')"
   ]
  },
  {
   "cell_type": "code",
   "execution_count": 4,
   "metadata": {
    "collapsed": false
   },
   "outputs": [
    {
     "name": "stdout",
     "output_type": "stream",
     "text": [
      "   |     0.01s B otype                from /Users/jAir/github/text-fabric-data/hebrew/extrabiblical\n",
      "   |     0.05s B oslots               from /Users/jAir/github/text-fabric-data/hebrew/extrabiblical\n",
      "   |     0.00s M otext                from /Users/jAir/github/text-fabric-data/hebrew/extrabiblical\n",
      "   |     0.00s B book                 from /Users/jAir/github/text-fabric-data/hebrew/extrabiblical\n",
      "   |     0.00s B chapter              from /Users/jAir/github/text-fabric-data/hebrew/extrabiblical\n",
      "   |     0.00s B verse                from /Users/jAir/github/text-fabric-data/hebrew/extrabiblical\n",
      "   |     0.01s B g_cons               from /Users/jAir/github/text-fabric-data/hebrew/extrabiblical\n",
      "   |     0.01s B g_lex_utf8           from /Users/jAir/github/text-fabric-data/hebrew/extrabiblical\n",
      "   |     0.01s B g_suffix             from /Users/jAir/github/text-fabric-data/hebrew/extrabiblical\n",
      "   |     0.01s B g_suffix_utf8        from /Users/jAir/github/text-fabric-data/hebrew/extrabiblical\n",
      "   |     0.01s B g_word               from /Users/jAir/github/text-fabric-data/hebrew/extrabiblical\n",
      "   |     0.02s B g_word_utf8          from /Users/jAir/github/text-fabric-data/hebrew/extrabiblical\n",
      "   |     0.01s B lex_utf8             from /Users/jAir/github/text-fabric-data/hebrew/extrabiblical\n",
      "   |     0.00s B __levels__           from otype, oslots\n",
      "   |     0.01s B __order__            from otype, oslots, __levels__\n",
      "   |     0.01s B __rank__             from otype, __order__\n",
      "   |     0.07s B __levUp__            from otype, oslots, __rank__\n",
      "   |     0.12s B __levDown__          from otype, __levUp__, __rank__\n",
      "   |     0.02s B __boundary__         from otype, oslots, __rank__\n",
      "   |     0.00s B __sections__         from otype, oslots, otext, __levUp__, __levels__, book, chapter, verse\n",
      "   |     0.01s B lex                  from /Users/jAir/github/text-fabric-data/hebrew/extrabiblical\n",
      "   |     0.00s B book@en              from /Users/jAir/github/text-fabric-data/hebrew/extrabiblical\n",
      "   |     0.00s M code                 from /Users/jAir/github/text-fabric-data/hebrew/extrabiblical\n",
      "   |     0.00s M det                  from /Users/jAir/github/text-fabric-data/hebrew/extrabiblical\n",
      "   |     0.00s M dist                 from /Users/jAir/github/text-fabric-data/hebrew/extrabiblical\n",
      "   |     0.00s M dist_unit            from /Users/jAir/github/text-fabric-data/hebrew/extrabiblical\n",
      "   |     0.00s M distributional_parent from /Users/jAir/github/text-fabric-data/hebrew/extrabiblical\n",
      "   |     0.00s M domain               from /Users/jAir/github/text-fabric-data/hebrew/extrabiblical\n",
      "   |     0.00s M function             from /Users/jAir/github/text-fabric-data/hebrew/extrabiblical\n",
      "   |     0.00s M functional_parent    from /Users/jAir/github/text-fabric-data/hebrew/extrabiblical\n",
      "   |     0.00s M g_cons_utf8          from /Users/jAir/github/text-fabric-data/hebrew/extrabiblical\n",
      "   |     0.00s M g_lex                from /Users/jAir/github/text-fabric-data/hebrew/extrabiblical\n",
      "   |     0.00s M g_nme                from /Users/jAir/github/text-fabric-data/hebrew/extrabiblical\n",
      "   |     0.00s M g_nme_utf8           from /Users/jAir/github/text-fabric-data/hebrew/extrabiblical\n",
      "   |     0.00s M g_pfm                from /Users/jAir/github/text-fabric-data/hebrew/extrabiblical\n",
      "   |     0.00s M g_pfm_utf8           from /Users/jAir/github/text-fabric-data/hebrew/extrabiblical\n",
      "   |     0.00s M g_prs                from /Users/jAir/github/text-fabric-data/hebrew/extrabiblical\n",
      "   |     0.00s M g_prs_utf8           from /Users/jAir/github/text-fabric-data/hebrew/extrabiblical\n",
      "   |     0.00s M g_uvf                from /Users/jAir/github/text-fabric-data/hebrew/extrabiblical\n",
      "   |     0.00s M g_uvf_utf8           from /Users/jAir/github/text-fabric-data/hebrew/extrabiblical\n",
      "   |     0.00s M g_vbe                from /Users/jAir/github/text-fabric-data/hebrew/extrabiblical\n",
      "   |     0.00s M g_vbe_utf8           from /Users/jAir/github/text-fabric-data/hebrew/extrabiblical\n",
      "   |     0.00s M g_vbs                from /Users/jAir/github/text-fabric-data/hebrew/extrabiblical\n",
      "   |     0.00s M g_vbs_utf8           from /Users/jAir/github/text-fabric-data/hebrew/extrabiblical\n",
      "   |     0.00s M gn                   from /Users/jAir/github/text-fabric-data/hebrew/extrabiblical\n",
      "   |     0.00s M is_root              from /Users/jAir/github/text-fabric-data/hebrew/extrabiblical\n",
      "   |     0.00s M kind                 from /Users/jAir/github/text-fabric-data/hebrew/extrabiblical\n",
      "   |     0.00s M label                from /Users/jAir/github/text-fabric-data/hebrew/extrabiblical\n",
      "   |     0.00s M language             from /Users/jAir/github/text-fabric-data/hebrew/extrabiblical\n",
      "   |     0.00s M lexeme_count         from /Users/jAir/github/text-fabric-data/hebrew/extrabiblical\n",
      "   |     0.00s M ls                   from /Users/jAir/github/text-fabric-data/hebrew/extrabiblical\n",
      "   |     0.00s M mother               from /Users/jAir/github/text-fabric-data/hebrew/extrabiblical\n",
      "   |     0.00s M mother_object_type   from /Users/jAir/github/text-fabric-data/hebrew/extrabiblical\n",
      "   |     0.00s M nme                  from /Users/jAir/github/text-fabric-data/hebrew/extrabiblical\n",
      "   |     0.00s M nu                   from /Users/jAir/github/text-fabric-data/hebrew/extrabiblical\n",
      "   |     0.00s M number               from /Users/jAir/github/text-fabric-data/hebrew/extrabiblical\n",
      "   |     0.00s M otext                from /Users/jAir/github/text-fabric-data/hebrew/extrabiblical\n",
      "   |     0.00s M pdp                  from /Users/jAir/github/text-fabric-data/hebrew/extrabiblical\n",
      "   |     0.00s M pfm                  from /Users/jAir/github/text-fabric-data/hebrew/extrabiblical\n",
      "   |     0.00s M prs                  from /Users/jAir/github/text-fabric-data/hebrew/extrabiblical\n",
      "   |     0.00s M prs_gn               from /Users/jAir/github/text-fabric-data/hebrew/extrabiblical\n",
      "   |     0.00s M prs_nu               from /Users/jAir/github/text-fabric-data/hebrew/extrabiblical\n",
      "   |     0.00s M prs_ps               from /Users/jAir/github/text-fabric-data/hebrew/extrabiblical\n",
      "   |     0.00s M ps                   from /Users/jAir/github/text-fabric-data/hebrew/extrabiblical\n",
      "   |     0.00s M qere                 from /Users/jAir/github/text-fabric-data/hebrew/extrabiblical\n",
      "   |     0.00s M qere_utf8            from /Users/jAir/github/text-fabric-data/hebrew/extrabiblical\n",
      "   |     0.00s M rela                 from /Users/jAir/github/text-fabric-data/hebrew/extrabiblical\n",
      "   |     0.00s M sp                   from /Users/jAir/github/text-fabric-data/hebrew/extrabiblical\n",
      "   |     0.00s M st                   from /Users/jAir/github/text-fabric-data/hebrew/extrabiblical\n",
      "   |     0.00s M suffix_gender        from /Users/jAir/github/text-fabric-data/hebrew/extrabiblical\n",
      "   |     0.00s M suffix_number        from /Users/jAir/github/text-fabric-data/hebrew/extrabiblical\n",
      "   |     0.00s M suffix_person        from /Users/jAir/github/text-fabric-data/hebrew/extrabiblical\n",
      "   |     0.00s M tab                  from /Users/jAir/github/text-fabric-data/hebrew/extrabiblical\n",
      "   |     0.00s M txt                  from /Users/jAir/github/text-fabric-data/hebrew/extrabiblical\n",
      "   |     0.00s M typ                  from /Users/jAir/github/text-fabric-data/hebrew/extrabiblical\n",
      "   |     0.00s M uvf                  from /Users/jAir/github/text-fabric-data/hebrew/extrabiblical\n",
      "   |     0.00s M vbe                  from /Users/jAir/github/text-fabric-data/hebrew/extrabiblical\n",
      "   |     0.00s M vbs                  from /Users/jAir/github/text-fabric-data/hebrew/extrabiblical\n",
      "   |     0.00s M vs                   from /Users/jAir/github/text-fabric-data/hebrew/extrabiblical\n",
      "   |     0.00s M vt                   from /Users/jAir/github/text-fabric-data/hebrew/extrabiblical\n"
     ]
    }
   ],
   "source": [
    "api.loadLog()\n",
    "api.makeAvailableIn(globals())"
   ]
  },
  {
   "cell_type": "markdown",
   "metadata": {},
   "source": [
    "In the following cell I look for cases of the lexeme 'L>' with the conconantal representation 'LW>' in the MT. The consonantal representation is given by the feature g_cons. Also printed in the output is the lexeme of the word preceding LW> immediately. In most cases it is the question-H."
   ]
  },
  {
   "cell_type": "code",
   "execution_count": 5,
   "metadata": {
    "collapsed": false
   },
   "outputs": [
    {
     "name": "stdout",
     "output_type": "stream",
     "text": [
      "al count is 9\n",
      "awl count is 110\n"
     ]
    }
   ],
   "source": [
    "al = 0\n",
    "awl = 0\n",
    "\n",
    "for word in F.otype.s('word'):\n",
    "    if F.g_cons.v(word) == 'L>':\n",
    "        al += 1\n",
    "    elif F.g_cons.v(word) == 'LW>':\n",
    "        awl += 1\n",
    "print('al count is', al)\n",
    "print('awl count is', awl)"
   ]
  },
  {
   "cell_type": "code",
   "execution_count": 6,
   "metadata": {
    "collapsed": false
   },
   "outputs": [
    {
     "name": "stdout",
     "output_type": "stream",
     "text": [
      "defaultdict(<function <lambda> at 0x10b17a048>, {'1QM': defaultdict(<class 'int'>, {'awl': 26}), '1QS': defaultdict(<class 'int'>, {'awl': 84}), 'Arad': defaultdict(<class 'int'>, {'al': 2}), 'Balaam': defaultdict(<class 'int'>, {'al': 1}), 'Lachish': defaultdict(<class 'int'>, {'al': 5}), 'Mesad_Hashavyahu': defaultdict(<class 'int'>, {'al': 1})})\n"
     ]
    }
   ],
   "source": [
    "I_per_book = collections.defaultdict(lambda: collections.defaultdict(int))\n",
    "\n",
    "for word in F.otype.s('word'):\n",
    "    if F.g_cons.v(word) == 'L>':\n",
    "        book = T.sectionFromNode(word)[0]\n",
    "        I_per_book[book]['al'] += 1\n",
    "    elif F.g_cons.v(word) == 'LW>':\n",
    "        book = T.sectionFromNode(word)[0]\n",
    "        I_per_book[book]['awl'] += 1\n",
    "        \n",
    "print(I_per_book)"
   ]
  },
  {
   "cell_type": "code",
   "execution_count": 7,
   "metadata": {
    "collapsed": true
   },
   "outputs": [],
   "source": [
    "csvh = open('al_awl_extrab.csv', \"w\")\n",
    "\n",
    "header = ['book', 'al', 'awl']\n",
    "csvh.write('{}\\n'.format(','.join(header)))\n",
    "\n",
    "for book in I_per_book:\n",
    "    line = [book, str(I_per_book[book])]\n",
    "    csvh.write('{}\\n'.format(','.join(line)))\n",
    "\n",
    "csvh.close()"
   ]
  },
  {
   "cell_type": "code",
   "execution_count": null,
   "metadata": {
    "collapsed": true
   },
   "outputs": [],
   "source": []
  }
 ],
 "metadata": {
  "anaconda-cloud": {},
  "kernelspec": {
   "display_name": "Python 3",
   "language": "python",
   "name": "python3"
  },
  "language_info": {
   "codemirror_mode": {
    "name": "ipython",
    "version": 3
   },
   "file_extension": ".py",
   "mimetype": "text/x-python",
   "name": "python",
   "nbconvert_exporter": "python",
   "pygments_lexer": "ipython3",
   "version": "3.6.0"
  }
 },
 "nbformat": 4,
 "nbformat_minor": 1
}
