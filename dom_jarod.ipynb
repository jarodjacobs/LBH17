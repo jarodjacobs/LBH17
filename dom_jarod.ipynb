{
 "cells": [
  {
   "cell_type": "markdown",
   "metadata": {},
   "source": [
    "EPPR Clauses in Biblical Hebrew. Making the dataset"
   ]
  },
  {
   "cell_type": "code",
   "execution_count": 1,
   "metadata": {
    "collapsed": true
   },
   "outputs": [],
   "source": [
    "import sys, collections, os"
   ]
  },
  {
   "cell_type": "code",
   "execution_count": 2,
   "metadata": {
    "collapsed": false
   },
   "outputs": [
    {
     "name": "stdout",
     "output_type": "stream",
     "text": [
      "This is Text-Fabric 2.3.6\n",
      "Api reference : https://github.com/ETCBC/text-fabric/wiki/Api\n",
      "Tutorial      : https://github.com/ETCBC/text-fabric/blob/master/docs/tutorial.ipynb\n",
      "Data sources  : https://github.com/ETCBC/text-fabric-data\n",
      "Data docs     : https://etcbc.github.io/text-fabric-data\n",
      "Shebanq docs  : https://shebanq.ancient-data.org/text\n",
      "Slack team    : https://shebanq.slack.com/signup\n",
      "Questions? Ask shebanq@ancient-data.org for an invite to Slack\n",
      "108 features found and 0 ignored\n"
     ]
    }
   ],
   "source": [
    "from tf.fabric import Fabric\n",
    "TF = Fabric(modules='hebrew/etcbc4c')"
   ]
  },
  {
   "cell_type": "markdown",
   "metadata": {},
   "source": [
    "Activate relevant linguistic features"
   ]
  },
  {
   "cell_type": "code",
   "execution_count": 3,
   "metadata": {
    "collapsed": false
   },
   "outputs": [
    {
     "name": "stdout",
     "output_type": "stream",
     "text": [
      "  0.00s loading features ...\n",
      "   |     0.07s B otype                from /Users/jAir/github/text-fabric-data/hebrew/etcbc4c\n",
      "   |     0.29s B lex                  from /Users/jAir/github/text-fabric-data/hebrew/etcbc4c\n",
      "   |     0.28s B language             from /Users/jAir/github/text-fabric-data/hebrew/etcbc4c\n",
      "   |     0.45s B typ                  from /Users/jAir/github/text-fabric-data/hebrew/etcbc4c\n",
      "   |     0.06s B code                 from /Users/jAir/github/text-fabric-data/hebrew/etcbc4c\n",
      "   |     0.15s B function             from /Users/jAir/github/text-fabric-data/hebrew/etcbc4c\n",
      "   |     0.44s B rela                 from /Users/jAir/github/text-fabric-data/hebrew/etcbc4c\n",
      "   |     0.39s B det                  from /Users/jAir/github/text-fabric-data/hebrew/etcbc4c\n",
      "   |     0.42s B vt                   from /Users/jAir/github/text-fabric-data/hebrew/etcbc4c\n",
      "   |     0.37s B vs                   from /Users/jAir/github/text-fabric-data/hebrew/etcbc4c\n",
      "   |     0.07s B txt                  from /Users/jAir/github/text-fabric-data/hebrew/etcbc4c\n",
      "   |     0.45s B sp                   from /Users/jAir/github/text-fabric-data/hebrew/etcbc4c\n",
      "   |     0.76s B mother               from /Users/jAir/github/text-fabric-data/hebrew/etcbc4c\n",
      "   |     0.49s B uvf                  from /Users/jAir/github/text-fabric-data/hebrew/etcbc4c\n",
      "   |     0.00s Feature overview: 102 for nodes; 5 for edges; 1 configs; 7 computed\n",
      "    16s All features loaded/computed - for details use loadLog()\n"
     ]
    }
   ],
   "source": [
    "api = TF.load('''\n",
    "    otype lex language\n",
    "    typ code function rela det \n",
    "    vt vs txt sp mother uvf\n",
    "''')"
   ]
  },
  {
   "cell_type": "code",
   "execution_count": 4,
   "metadata": {
    "collapsed": false
   },
   "outputs": [
    {
     "name": "stdout",
     "output_type": "stream",
     "text": [
      "   |     0.07s B otype                from /Users/jAir/github/text-fabric-data/hebrew/etcbc4c\n",
      "   |     1.53s B oslots               from /Users/jAir/github/text-fabric-data/hebrew/etcbc4c\n",
      "   |     0.00s M otext                from /Users/jAir/github/text-fabric-data/hebrew/etcbc4c\n",
      "   |     0.02s B book                 from /Users/jAir/github/text-fabric-data/hebrew/etcbc4c\n",
      "   |     0.01s B chapter              from /Users/jAir/github/text-fabric-data/hebrew/etcbc4c\n",
      "   |     0.01s B verse                from /Users/jAir/github/text-fabric-data/hebrew/etcbc4c\n",
      "   |     0.34s B g_cons               from /Users/jAir/github/text-fabric-data/hebrew/etcbc4c\n",
      "   |     0.36s B g_cons_utf8          from /Users/jAir/github/text-fabric-data/hebrew/etcbc4c\n",
      "   |     0.38s B g_lex                from /Users/jAir/github/text-fabric-data/hebrew/etcbc4c\n",
      "   |     0.42s B g_lex_utf8           from /Users/jAir/github/text-fabric-data/hebrew/etcbc4c\n",
      "   |     0.39s B g_word               from /Users/jAir/github/text-fabric-data/hebrew/etcbc4c\n",
      "   |     0.52s B g_word_utf8          from /Users/jAir/github/text-fabric-data/hebrew/etcbc4c\n",
      "   |     0.30s B lex0                 from /Users/jAir/github/text-fabric-data/hebrew/etcbc4c\n",
      "   |     0.43s B lex_utf8             from /Users/jAir/github/text-fabric-data/hebrew/etcbc4c\n",
      "   |     0.00s B qere                 from /Users/jAir/github/text-fabric-data/hebrew/etcbc4c\n",
      "   |     0.00s B qere_trailer         from /Users/jAir/github/text-fabric-data/hebrew/etcbc4c\n",
      "   |     0.00s B qere_trailer_utf8    from /Users/jAir/github/text-fabric-data/hebrew/etcbc4c\n",
      "   |     0.00s B qere_utf8            from /Users/jAir/github/text-fabric-data/hebrew/etcbc4c\n",
      "   |     0.15s B trailer              from /Users/jAir/github/text-fabric-data/hebrew/etcbc4c\n",
      "   |     0.18s B trailer_utf8         from /Users/jAir/github/text-fabric-data/hebrew/etcbc4c\n",
      "   |     0.00s B __levels__           from otype, oslots\n",
      "   |     0.18s B __order__            from otype, oslots, __levels__\n",
      "   |     0.15s B __rank__             from otype, __order__\n",
      "   |     2.67s B __levUp__            from otype, oslots, __rank__\n",
      "   |     1.96s B __levDown__          from otype, __levUp__, __rank__\n",
      "   |     0.69s B __boundary__         from otype, oslots, __rank__\n",
      "   |     0.03s B __sections__         from otype, oslots, otext, __levUp__, __levels__, book, chapter, verse\n",
      "   |     0.29s B lex                  from /Users/jAir/github/text-fabric-data/hebrew/etcbc4c\n",
      "   |     0.28s B language             from /Users/jAir/github/text-fabric-data/hebrew/etcbc4c\n",
      "   |     0.45s B typ                  from /Users/jAir/github/text-fabric-data/hebrew/etcbc4c\n",
      "   |     0.06s B code                 from /Users/jAir/github/text-fabric-data/hebrew/etcbc4c\n",
      "   |     0.15s B function             from /Users/jAir/github/text-fabric-data/hebrew/etcbc4c\n",
      "   |     0.44s B rela                 from /Users/jAir/github/text-fabric-data/hebrew/etcbc4c\n",
      "   |     0.39s B det                  from /Users/jAir/github/text-fabric-data/hebrew/etcbc4c\n",
      "   |     0.42s B vt                   from /Users/jAir/github/text-fabric-data/hebrew/etcbc4c\n",
      "   |     0.37s B vs                   from /Users/jAir/github/text-fabric-data/hebrew/etcbc4c\n",
      "   |     0.07s B txt                  from /Users/jAir/github/text-fabric-data/hebrew/etcbc4c\n",
      "   |     0.45s B sp                   from /Users/jAir/github/text-fabric-data/hebrew/etcbc4c\n",
      "   |     0.76s B mother               from /Users/jAir/github/text-fabric-data/hebrew/etcbc4c\n",
      "   |     0.49s B uvf                  from /Users/jAir/github/text-fabric-data/hebrew/etcbc4c\n",
      "   |     0.01s B book@am              from /Users/jAir/github/text-fabric-data/hebrew/etcbc4c\n",
      "   |     0.00s B book@ar              from /Users/jAir/github/text-fabric-data/hebrew/etcbc4c\n",
      "   |     0.00s B book@bn              from /Users/jAir/github/text-fabric-data/hebrew/etcbc4c\n",
      "   |     0.00s B book@da              from /Users/jAir/github/text-fabric-data/hebrew/etcbc4c\n",
      "   |     0.00s B book@de              from /Users/jAir/github/text-fabric-data/hebrew/etcbc4c\n",
      "   |     0.00s B book@el              from /Users/jAir/github/text-fabric-data/hebrew/etcbc4c\n",
      "   |     0.00s B book@en              from /Users/jAir/github/text-fabric-data/hebrew/etcbc4c\n",
      "   |     0.00s B book@es              from /Users/jAir/github/text-fabric-data/hebrew/etcbc4c\n",
      "   |     0.00s B book@fa              from /Users/jAir/github/text-fabric-data/hebrew/etcbc4c\n",
      "   |     0.00s B book@fr              from /Users/jAir/github/text-fabric-data/hebrew/etcbc4c\n",
      "   |     0.00s B book@he              from /Users/jAir/github/text-fabric-data/hebrew/etcbc4c\n",
      "   |     0.00s B book@hi              from /Users/jAir/github/text-fabric-data/hebrew/etcbc4c\n",
      "   |     0.00s B book@id              from /Users/jAir/github/text-fabric-data/hebrew/etcbc4c\n",
      "   |     0.00s B book@ja              from /Users/jAir/github/text-fabric-data/hebrew/etcbc4c\n",
      "   |     0.00s B book@ko              from /Users/jAir/github/text-fabric-data/hebrew/etcbc4c\n",
      "   |     0.00s B book@la              from /Users/jAir/github/text-fabric-data/hebrew/etcbc4c\n",
      "   |     0.00s B book@nl              from /Users/jAir/github/text-fabric-data/hebrew/etcbc4c\n",
      "   |     0.00s B book@pa              from /Users/jAir/github/text-fabric-data/hebrew/etcbc4c\n",
      "   |     0.00s B book@pt              from /Users/jAir/github/text-fabric-data/hebrew/etcbc4c\n",
      "   |     0.00s B book@ru              from /Users/jAir/github/text-fabric-data/hebrew/etcbc4c\n",
      "   |     0.00s B book@sw              from /Users/jAir/github/text-fabric-data/hebrew/etcbc4c\n",
      "   |     0.00s B book@syc             from /Users/jAir/github/text-fabric-data/hebrew/etcbc4c\n",
      "   |     0.00s B book@tr              from /Users/jAir/github/text-fabric-data/hebrew/etcbc4c\n",
      "   |     0.00s B book@ur              from /Users/jAir/github/text-fabric-data/hebrew/etcbc4c\n",
      "   |     0.00s B book@yo              from /Users/jAir/github/text-fabric-data/hebrew/etcbc4c\n",
      "   |     0.00s B book@zh              from /Users/jAir/github/text-fabric-data/hebrew/etcbc4c\n",
      "   |     0.00s M dist                 from /Users/jAir/github/text-fabric-data/hebrew/etcbc4c\n",
      "   |     0.00s M dist_unit            from /Users/jAir/github/text-fabric-data/hebrew/etcbc4c\n",
      "   |     0.00s M distributional_parent from /Users/jAir/github/text-fabric-data/hebrew/etcbc4c\n",
      "   |     0.00s M domain               from /Users/jAir/github/text-fabric-data/hebrew/etcbc4c\n",
      "   |     0.00s M freq_lex             from /Users/jAir/github/text-fabric-data/hebrew/etcbc4c\n",
      "   |     0.00s M freq_occ             from /Users/jAir/github/text-fabric-data/hebrew/etcbc4c\n",
      "   |     0.00s M functional_parent    from /Users/jAir/github/text-fabric-data/hebrew/etcbc4c\n",
      "   |     0.00s M g_nme                from /Users/jAir/github/text-fabric-data/hebrew/etcbc4c\n",
      "   |     0.00s M g_nme_utf8           from /Users/jAir/github/text-fabric-data/hebrew/etcbc4c\n",
      "   |     0.00s M g_pfm                from /Users/jAir/github/text-fabric-data/hebrew/etcbc4c\n",
      "   |     0.00s M g_pfm_utf8           from /Users/jAir/github/text-fabric-data/hebrew/etcbc4c\n",
      "   |     0.00s M g_prs                from /Users/jAir/github/text-fabric-data/hebrew/etcbc4c\n",
      "   |     0.00s M g_prs_utf8           from /Users/jAir/github/text-fabric-data/hebrew/etcbc4c\n",
      "   |     0.00s M g_uvf                from /Users/jAir/github/text-fabric-data/hebrew/etcbc4c\n",
      "   |     0.00s M g_uvf_utf8           from /Users/jAir/github/text-fabric-data/hebrew/etcbc4c\n",
      "   |     0.00s M g_vbe                from /Users/jAir/github/text-fabric-data/hebrew/etcbc4c\n",
      "   |     0.00s M g_vbe_utf8           from /Users/jAir/github/text-fabric-data/hebrew/etcbc4c\n",
      "   |     0.00s M g_vbs                from /Users/jAir/github/text-fabric-data/hebrew/etcbc4c\n",
      "   |     0.00s M g_vbs_utf8           from /Users/jAir/github/text-fabric-data/hebrew/etcbc4c\n",
      "   |     0.00s M gloss                from /Users/jAir/github/text-fabric-data/hebrew/etcbc4c\n",
      "   |     0.00s M gn                   from /Users/jAir/github/text-fabric-data/hebrew/etcbc4c\n",
      "   |     0.00s M instruction          from /Users/jAir/github/text-fabric-data/hebrew/etcbc4c\n",
      "   |     0.00s M is_root              from /Users/jAir/github/text-fabric-data/hebrew/etcbc4c\n",
      "   |     0.00s M kind                 from /Users/jAir/github/text-fabric-data/hebrew/etcbc4c\n",
      "   |     0.00s M label                from /Users/jAir/github/text-fabric-data/hebrew/etcbc4c\n",
      "   |     0.00s M ls                   from /Users/jAir/github/text-fabric-data/hebrew/etcbc4c\n",
      "   |     0.00s M mother_object_type   from /Users/jAir/github/text-fabric-data/hebrew/etcbc4c\n",
      "   |     0.00s M nametype             from /Users/jAir/github/text-fabric-data/hebrew/etcbc4c\n",
      "   |     0.00s M nme                  from /Users/jAir/github/text-fabric-data/hebrew/etcbc4c\n",
      "   |     0.00s M nu                   from /Users/jAir/github/text-fabric-data/hebrew/etcbc4c\n",
      "   |     0.00s M number               from /Users/jAir/github/text-fabric-data/hebrew/etcbc4c\n",
      "   |     0.00s M omap@4b-4c           from /Users/jAir/github/text-fabric-data/hebrew/etcbc4c\n",
      "   |     0.00s M otext                from /Users/jAir/github/text-fabric-data/hebrew/etcbc4c\n",
      "   |     0.00s M pargr                from /Users/jAir/github/text-fabric-data/hebrew/etcbc4c\n",
      "   |     0.00s M pdp                  from /Users/jAir/github/text-fabric-data/hebrew/etcbc4c\n",
      "   |     0.00s M pfm                  from /Users/jAir/github/text-fabric-data/hebrew/etcbc4c\n",
      "   |     0.00s M prs                  from /Users/jAir/github/text-fabric-data/hebrew/etcbc4c\n",
      "   |     0.00s M prs_gn               from /Users/jAir/github/text-fabric-data/hebrew/etcbc4c\n",
      "   |     0.00s M prs_nu               from /Users/jAir/github/text-fabric-data/hebrew/etcbc4c\n",
      "   |     0.00s M prs_ps               from /Users/jAir/github/text-fabric-data/hebrew/etcbc4c\n",
      "   |     0.00s M ps                   from /Users/jAir/github/text-fabric-data/hebrew/etcbc4c\n",
      "   |     0.00s M rank_lex             from /Users/jAir/github/text-fabric-data/hebrew/etcbc4c\n",
      "   |     0.00s M rank_occ             from /Users/jAir/github/text-fabric-data/hebrew/etcbc4c\n",
      "   |     0.00s M root                 from /Users/jAir/github/text-fabric-data/hebrew/etcbc4c\n",
      "   |     0.00s M st                   from /Users/jAir/github/text-fabric-data/hebrew/etcbc4c\n",
      "   |     0.00s M tab                  from /Users/jAir/github/text-fabric-data/hebrew/etcbc4c\n",
      "   |     0.00s M vbe                  from /Users/jAir/github/text-fabric-data/hebrew/etcbc4c\n",
      "   |     0.00s M vbs                  from /Users/jAir/github/text-fabric-data/hebrew/etcbc4c\n",
      "   |     0.00s M voc                  from /Users/jAir/github/text-fabric-data/hebrew/etcbc4c\n",
      "   |     0.00s M voc_utf8             from /Users/jAir/github/text-fabric-data/hebrew/etcbc4c\n"
     ]
    }
   ],
   "source": [
    "api.loadLog()\n",
    "api.makeAvailableIn(globals())"
   ]
  },
  {
   "cell_type": "code",
   "execution_count": 6,
   "metadata": {
    "collapsed": false
   },
   "outputs": [
    {
     "name": "stdout",
     "output_type": "stream",
     "text": [
      "1446130\n"
     ]
    }
   ],
   "source": [
    "n = 0\n",
    "\n",
    "for node in N():\n",
    "    n += 1\n",
    "    \n",
    "print(n)"
   ]
  },
  {
   "cell_type": "code",
   "execution_count": 7,
   "metadata": {
    "collapsed": false
   },
   "outputs": [
    {
     "name": "stdout",
     "output_type": "stream",
     "text": [
      "defaultdict(<class 'int'>, {'book': 39, 'chapter': 929, 'verse': 23213, 'sentence': 63570, 'sentence_atom': 64339, 'clause': 88000, 'clause_atom': 90562, 'half_verse': 45180, 'phrase': 253174, 'phrase_atom': 267515, 'lex': 9236, 'word': 426581, 'subphrase': 113792})\n"
     ]
    }
   ],
   "source": [
    "obj_dict = collections.defaultdict(int)\n",
    "\n",
    "for node in N():\n",
    "    obj_dict[F.otype.v(node)] += 1\n",
    "    \n",
    "print(obj_dict)"
   ]
  },
  {
   "cell_type": "code",
   "execution_count": 5,
   "metadata": {
    "collapsed": false
   },
   "outputs": [
    {
     "data": {
      "text/plain": [
       "False"
      ]
     },
     "execution_count": 5,
     "metadata": {},
     "output_type": "execute_result"
    }
   ],
   "source": [
    "dom_counter = 0\n",
    "info_dict = {}\n",
    "info_list_dom = []\n",
    "\n",
    "for word in F.otype.s('word'):\n",
    "    if F.lex.v(word) == '>T':\n",
    "        dom_counter += 1\n",
    "        info = [str(word)]\n",
    "        where = T.sectionFromNode(word)\n",
    "        info.append(where[0])\n",
    "        info.append(str(where[1]))\n",
    "        info.append(str(where[2]))\n",
    "        info.append(F.lex.v(word))\n",
    "        info_dict[word] = info\n",
    "        info_list_dom.append(word)\n",
    "        \n",
    "        \n",
    "#print(info_dict[426581])\n",
    "426581 in info_list_dom"
   ]
  },
  {
   "cell_type": "code",
   "execution_count": 6,
   "metadata": {
    "collapsed": false
   },
   "outputs": [],
   "source": [
    "csvh = open(r'dom_jarod.csv', \"w\")\n",
    "header = ['id', 'book', 'chapter', 'verse', 'lexeme']\n",
    "csvh.write('{}\\n'.format(','.join(header)))\n",
    "for he in info_list_dom:\n",
    "    line = info_dict[he]\n",
    "    csvh.write('{}\\n'.format(','.join(line)))\n",
    "    \n",
    "csvh.close()"
   ]
  },
  {
   "cell_type": "code",
   "execution_count": null,
   "metadata": {
    "collapsed": true
   },
   "outputs": [],
   "source": []
  },
  {
   "cell_type": "markdown",
   "metadata": {},
   "source": [
    "Now we count the amount of doms in each book"
   ]
  },
  {
   "cell_type": "code",
   "execution_count": 10,
   "metadata": {
    "collapsed": false
   },
   "outputs": [
    {
     "name": "stdout",
     "output_type": "stream",
     "text": [
      "defaultdict(<class 'int'>, {'Genesis': 1007, 'Exodus': 1027, 'Leviticus': 772, 'Numbers': 703, 'Deuteronomy': 655, 'Joshua': 564, 'Judges': 466, '1_Samuel': 543, '2_Samuel': 398, '1_Kings': 555, '2_Kings': 591, 'Isaiah': 226, 'Jeremiah': 862, 'Ezekiel': 648, 'Hosea': 45, 'Joel': 18, 'Amos': 45, 'Obadiah': 9, 'Jonah': 14, 'Micah': 16, 'Nahum': 1, 'Habakkuk': 3, 'Zephaniah': 23, 'Haggai': 18, 'Zechariah': 103, 'Malachi': 34, 'Psalms': 152, 'Job': 44, 'Proverbs': 21, 'Ruth': 31, 'Song_of_songs': 24, 'Ecclesiastes': 74, 'Lamentations': 7, 'Esther': 115, 'Daniel': 39, 'Ezra': 30, 'Nehemiah': 131, '1_Chronicles': 457, '2_Chronicles': 531})\n"
     ]
    }
   ],
   "source": [
    "book_dict = collections.defaultdict(int)\n",
    "\n",
    "for word in F.otype.s('word'):\n",
    "    if F.lex.v(word) == '>T':\n",
    "        where = T.sectionFromNode(word)\n",
    "        book_dict[where[0]] += 1\n",
    "    \n",
    "print(book_dict)"
   ]
  },
  {
   "cell_type": "code",
   "execution_count": 11,
   "metadata": {
    "collapsed": false
   },
   "outputs": [],
   "source": [
    "csvh = open('doms.csv', \"w\")\n",
    "\n",
    "header = ['book', 'dom']\n",
    "csvh.write('{}\\n'.format(','.join(header)))\n",
    "\n",
    "for book in book_dict:\n",
    "    line = [book, str(book_dict[book])]\n",
    "    csvh.write('{}\\n'.format(','.join(line)))\n",
    "\n",
    "csvh.close()"
   ]
  },
  {
   "cell_type": "code",
   "execution_count": null,
   "metadata": {
    "collapsed": true
   },
   "outputs": [],
   "source": []
  }
 ],
 "metadata": {
  "anaconda-cloud": {},
  "kernelspec": {
   "display_name": "Python 3",
   "language": "python",
   "name": "python3"
  },
  "language_info": {
   "codemirror_mode": {
    "name": "ipython",
    "version": 3
   },
   "file_extension": ".py",
   "mimetype": "text/x-python",
   "name": "python",
   "nbconvert_exporter": "python",
   "pygments_lexer": "ipython3",
   "version": "3.6.0"
  }
 },
 "nbformat": 4,
 "nbformat_minor": 1
}
