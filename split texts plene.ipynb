{
 "cells": [
  {
   "cell_type": "code",
   "execution_count": 7,
   "metadata": {
    "collapsed": true
   },
   "outputs": [],
   "source": [
    "import sys, collections, os"
   ]
  },
  {
   "cell_type": "code",
   "execution_count": 8,
   "metadata": {
    "collapsed": false
   },
   "outputs": [
    {
     "name": "stdout",
     "output_type": "stream",
     "text": [
      "This is Text-Fabric 2.3.6\n",
      "Api reference : https://github.com/ETCBC/text-fabric/wiki/Api\n",
      "Tutorial      : https://github.com/ETCBC/text-fabric/blob/master/docs/tutorial.ipynb\n",
      "Data sources  : https://github.com/ETCBC/text-fabric-data\n",
      "Data docs     : https://etcbc.github.io/text-fabric-data\n",
      "Shebanq docs  : https://shebanq.ancient-data.org/text\n",
      "Slack team    : https://shebanq.slack.com/signup\n",
      "Questions? Ask shebanq@ancient-data.org for an invite to Slack\n",
      "108 features found and 0 ignored\n"
     ]
    }
   ],
   "source": [
    "from tf.fabric import Fabric\n",
    "TF = Fabric(modules='hebrew/etcbc4c')"
   ]
  },
  {
   "cell_type": "code",
   "execution_count": 10,
   "metadata": {
    "collapsed": false
   },
   "outputs": [
    {
     "name": "stdout",
     "output_type": "stream",
     "text": [
      "  0.00s loading features ...\n",
      "   |     0.00s Feature overview: 102 for nodes; 5 for edges; 1 configs; 7 computed\n",
      "  0.12s All features loaded/computed - for details use loadLog()\n"
     ]
    }
   ],
   "source": [
    "api = TF.load('''\n",
    "    otype lex g_cons\n",
    "    \n",
    "''')"
   ]
  },
  {
   "cell_type": "code",
   "execution_count": 12,
   "metadata": {
    "collapsed": false
   },
   "outputs": [],
   "source": [
    "api.loadLog()\n",
    "api.makeAvailableIn(globals())"
   ]
  },
  {
   "cell_type": "code",
   "execution_count": 13,
   "metadata": {
    "collapsed": false
   },
   "outputs": [
    {
     "name": "stdout",
     "output_type": "stream",
     "text": [
      "I Isaiah al 194\n",
      "I Isaiah awl 6\n",
      "II Isaiah al 147\n",
      "II Isaiah awl 17\n",
      "III Isaiah al 79\n",
      "III ISaiah awl 5\n",
      "Proverbs_post al 35\n",
      "Proverbs_post awl 0\n",
      "Proverbs_pre al 97\n",
      "Proverbs_pre awl 1\n",
      "2 Kings_pre al 158\n",
      "2 Kings_pre awl 15\n",
      "2 Kings_post al 6\n",
      "2 Kings_post awl 0\n",
      "Job_pre al 16\n",
      "Job_pre awl 0\n",
      "Job_post al 302\n",
      "Job_post awl 0\n",
      "psa al 262\n",
      "psa awl 1\n",
      "psb al 39\n",
      "psb awl 0\n",
      "psc al 35\n",
      "psc awl 0\n"
     ]
    }
   ],
   "source": [
    "i_isa_al = 0\n",
    "i_isa_awl = 0\n",
    "ii_isa_al = 0\n",
    "ii_isa_awl = 0\n",
    "iii_isa_al = 0\n",
    "iii_isa_awl = 0\n",
    "\n",
    "proverbspost_al = 0\n",
    "proverbspost_awl = 0\n",
    "proverbspre_al = 0\n",
    "proverbspre_awl = 0\n",
    "\n",
    "kingspre_al = 0\n",
    "kingspre_awl = 0\n",
    "kingspost_al = 0\n",
    "kingspost_awl = 0\n",
    "\n",
    "jobpre_al = 0\n",
    "jobpre_awl = 0\n",
    "jobpost_al = 0\n",
    "jobpost_awl = 0\n",
    "\n",
    "\n",
    "psa_al = 0\n",
    "psa_awl = 0\n",
    "psb_al = 0\n",
    "psb_awl = 0\n",
    "psc_al = 0\n",
    "psc_awl = 0\n",
    "\n",
    "apsalms = {1, 2, 3, 4, 5, 6, 7, 8, 9, 10, 11, 12, 13, 14, 15, 16, 17, 18, 20, 21, 22, 23, 24, 25, 26, 27, 29, 30, 31, 32, 34, 35, 36, 37, 38, 39, 41, 42, 43, 44, 46, 47, 48, 49, 50, 51, 52, 53, 54, 55, 56, 57, 58, 59, 60, 61, 62, 64, 65, 66, 67, 68, 69, 70, 71, 72, 73, 74, 76, 77, 78, 79, 80, 81, 82, 83, 84, 85, 86, 87, 88, 89, 90, 91, 92, 93, 94, 95, 96, 97, 98, 99, 100, 101, 102, 105, 108, 110, 114, 115, 118, 120, 121, 122, 127, 130, 131, 132, 134, 138, 139, 140, 141, 142, 144, 149, 150}\n",
    "bpsalms = {19, 28, 33, 40, 45, 63, 75, 104, 106, 107, 109, 111, 112, 113, 116, 126, 128, 135, 137, 143, 146, 147, 148}          \n",
    "\n",
    "\n",
    "for word in F.otype.s('word'):\n",
    "    bo, ch, ve = T.sectionFromNode(word)\n",
    "\n",
    "    if bo == 'Isaiah':\n",
    "        if ch < 40:\n",
    "            if F.g_cons.v(word) == 'L>':\n",
    "                i_isa_al += 1\n",
    "            elif F.g_cons.v(word) == 'LW>':\n",
    "                i_isa_awl += 1\n",
    "        elif ch < 56:\n",
    "            if F.g_cons.v(word) == 'L>':\n",
    "                ii_isa_al += 1\n",
    "            elif F.g_cons.v(word) == 'LW>':\n",
    "                ii_isa_awl += 1\n",
    "        else:\n",
    "            if F.g_cons.v(word) == 'L>':\n",
    "                iii_isa_al += 1\n",
    "            elif F.g_cons.v(word) == 'LW>':\n",
    "                iii_isa_awl += 1\n",
    "                \n",
    "    elif bo == 'Proverbs':\n",
    "        if ch < 10:\n",
    "            if F.g_cons.v(word) == 'L>':\n",
    "                proverbspost_al += 1\n",
    "            elif F.g_cons.v(word) == 'LW>': \n",
    "                proverbspost_awl += 1\n",
    "                \n",
    "        elif ch == 29-31:\n",
    "            if F.g_cons.v(word) == 'L>':\n",
    "                proverbspost_al += 1\n",
    "            elif F.g_cons.v(word) == 'LW>':\n",
    "                proverbspost_awl += 1\n",
    "                \n",
    "        else:\n",
    "            if F.g_cons.v(word) == 'L>':\n",
    "                proverbspre_al += 1\n",
    "            elif F.g_cons.v(word) == 'LW>': \n",
    "                proverbspre_awl += 1\n",
    "                \n",
    "    elif bo == '2_Kings':\n",
    "        if ch < 24:\n",
    "            if F.g_cons.v(word) == 'L>':\n",
    "                kingspre_al += 1\n",
    "            elif F.g_cons.v(word) == 'LW>': \n",
    "                kingspre_awl += 1\n",
    "        else:\n",
    "            if F.g_cons.v(word) == 'L>':\n",
    "                kingspost_al += 1\n",
    "            elif F.g_cons.v(word) == 'LW>': \n",
    "                kingspost_awl += 1\n",
    "    \n",
    "    elif bo == 'Job':\n",
    "        if ch < 4:\n",
    "            if F.g_cons.v(word) == 'L>':\n",
    "                jobpre_al += 1\n",
    "            elif F.g_cons.v(word) == 'LW>': \n",
    "                jobpre_awl += 1\n",
    "        \n",
    "        else:\n",
    "            if F.g_cons.v(word) == 'L>':\n",
    "                jobpost_al += 1\n",
    "            elif F.g_cons.v(word) == 'LW>': \n",
    "                jobpost_awl += 1\n",
    "                \n",
    "    elif bo == 'Psalms':\n",
    "        if ch in apsalms:\n",
    "            if F.g_cons.v(word) == 'L>':\n",
    "                psa_al += 1\n",
    "            elif F.g_cons.v(word) == 'LW>': \n",
    "                psa_awl += 1\n",
    "                \n",
    "        elif ch in bpsalms:\n",
    "            if F.g_cons.v(word) == 'L>':\n",
    "                psb_al += 1\n",
    "            elif F.g_cons.v(word) == 'LW>': \n",
    "                psb_awl += 1\n",
    "\n",
    "        else: \n",
    "            if F.g_cons.v(word) == 'L>':\n",
    "                psc_al += 1\n",
    "            elif F.g_cons.v(word) == 'LW>': \n",
    "                psc_awl += 1\n",
    "            \n",
    "                \n",
    "print('I Isaiah al', i_isa_al)\n",
    "print('I Isaiah awl', i_isa_awl)\n",
    "print('II Isaiah al', ii_isa_al)\n",
    "print('II Isaiah awl', ii_isa_awl)\n",
    "print('III Isaiah al', iii_isa_al)\n",
    "print('III ISaiah awl', iii_isa_awl)\n",
    "\n",
    "print('Proverbs_post al', proverbspost_al)\n",
    "print('Proverbs_post awl', proverbspost_awl)\n",
    "print('Proverbs_pre al', proverbspre_al)\n",
    "print('Proverbs_pre awl', proverbspre_awl)\n",
    "\n",
    "print('2 Kings_pre al', kingspre_al)\n",
    "print('2 Kings_pre awl', kingspre_awl)\n",
    "print('2 Kings_post al', kingspost_al)\n",
    "print('2 Kings_post awl', kingspost_awl)\n",
    "\n",
    "print('Job_pre al', jobpre_al)\n",
    "print('Job_pre awl', jobpre_awl)\n",
    "print('Job_post al', jobpost_al)\n",
    "print('Job_post awl', jobpost_awl)\n",
    "\n",
    "print('psa al', psa_al)\n",
    "print('psa awl', psa_awl)\n",
    "print('psb al', psb_al)\n",
    "print('psb awl', psb_awl)\n",
    "print('psc al', psc_al)\n",
    "print('psc awl', psc_awl)"
   ]
  },
  {
   "cell_type": "code",
   "execution_count": null,
   "metadata": {
    "collapsed": true
   },
   "outputs": [],
   "source": []
  }
 ],
 "metadata": {
  "anaconda-cloud": {},
  "kernelspec": {
   "display_name": "Python 3",
   "language": "python",
   "name": "python3"
  },
  "language_info": {
   "codemirror_mode": {
    "name": "ipython",
    "version": 3
   },
   "file_extension": ".py",
   "mimetype": "text/x-python",
   "name": "python",
   "nbconvert_exporter": "python",
   "pygments_lexer": "ipython3",
   "version": "3.6.0"
  }
 },
 "nbformat": 4,
 "nbformat_minor": 1
}
